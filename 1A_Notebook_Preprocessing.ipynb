{
 "cells": [
  {
   "cell_type": "code",
   "execution_count": 49,
   "id": "497772ce",
   "metadata": {},
   "outputs": [],
   "source": [
    "import pandas as pd\n",
    "import re\n",
    "import matplotlib.pyplot as plt\n",
    "import seaborn as sns"
   ]
  },
  {
   "cell_type": "markdown",
   "id": "ea984c19",
   "metadata": {},
   "source": [
    "## LOAD"
   ]
  },
  {
   "cell_type": "code",
   "execution_count": 2,
   "id": "3e4fd8f5",
   "metadata": {},
   "outputs": [],
   "source": [
    "df = pd.read_csv('ecommerce_dataset_us.csv', sep='\\t')\n",
    "# The dataset contains the transaction history of an online store that sells household goods."
   ]
  },
  {
   "cell_type": "markdown",
   "id": "e5d37597",
   "metadata": {},
   "source": [
    "## OVERVIEW"
   ]
  },
  {
   "cell_type": "code",
   "execution_count": 3,
   "id": "fadcde55",
   "metadata": {
    "scrolled": true
   },
   "outputs": [
    {
     "data": {
      "text/html": [
       "<div>\n",
       "<style scoped>\n",
       "    .dataframe tbody tr th:only-of-type {\n",
       "        vertical-align: middle;\n",
       "    }\n",
       "\n",
       "    .dataframe tbody tr th {\n",
       "        vertical-align: top;\n",
       "    }\n",
       "\n",
       "    .dataframe thead th {\n",
       "        text-align: right;\n",
       "    }\n",
       "</style>\n",
       "<table border=\"1\" class=\"dataframe\">\n",
       "  <thead>\n",
       "    <tr style=\"text-align: right;\">\n",
       "      <th></th>\n",
       "      <th>InvoiceNo</th>\n",
       "      <th>StockCode</th>\n",
       "      <th>Description</th>\n",
       "      <th>Quantity</th>\n",
       "      <th>InvoiceDate</th>\n",
       "      <th>UnitPrice</th>\n",
       "      <th>CustomerID</th>\n",
       "    </tr>\n",
       "  </thead>\n",
       "  <tbody>\n",
       "    <tr>\n",
       "      <th>0</th>\n",
       "      <td>536365</td>\n",
       "      <td>85123A</td>\n",
       "      <td>WHITE HANGING HEART T-LIGHT HOLDER</td>\n",
       "      <td>6</td>\n",
       "      <td>11/29/2018 08:26</td>\n",
       "      <td>2.55</td>\n",
       "      <td>17850.0</td>\n",
       "    </tr>\n",
       "    <tr>\n",
       "      <th>1</th>\n",
       "      <td>536365</td>\n",
       "      <td>71053</td>\n",
       "      <td>WHITE METAL LANTERN</td>\n",
       "      <td>6</td>\n",
       "      <td>11/29/2018 08:26</td>\n",
       "      <td>3.39</td>\n",
       "      <td>17850.0</td>\n",
       "    </tr>\n",
       "    <tr>\n",
       "      <th>2</th>\n",
       "      <td>536365</td>\n",
       "      <td>84406B</td>\n",
       "      <td>CREAM CUPID HEARTS COAT HANGER</td>\n",
       "      <td>8</td>\n",
       "      <td>11/29/2018 08:26</td>\n",
       "      <td>2.75</td>\n",
       "      <td>17850.0</td>\n",
       "    </tr>\n",
       "  </tbody>\n",
       "</table>\n",
       "</div>"
      ],
      "text/plain": [
       "  InvoiceNo StockCode                         Description  Quantity  \\\n",
       "0    536365    85123A  WHITE HANGING HEART T-LIGHT HOLDER         6   \n",
       "1    536365     71053                 WHITE METAL LANTERN         6   \n",
       "2    536365    84406B      CREAM CUPID HEARTS COAT HANGER         8   \n",
       "\n",
       "        InvoiceDate  UnitPrice  CustomerID  \n",
       "0  11/29/2018 08:26       2.55     17850.0  \n",
       "1  11/29/2018 08:26       3.39     17850.0  \n",
       "2  11/29/2018 08:26       2.75     17850.0  "
      ]
     },
     "execution_count": 3,
     "metadata": {},
     "output_type": "execute_result"
    }
   ],
   "source": [
    "df.head(3)"
   ]
  },
  {
   "cell_type": "code",
   "execution_count": 4,
   "id": "94f4f524",
   "metadata": {},
   "outputs": [
    {
     "name": "stdout",
     "output_type": "stream",
     "text": [
      "<class 'pandas.core.frame.DataFrame'>\n",
      "RangeIndex: 541909 entries, 0 to 541908\n",
      "Data columns (total 7 columns):\n",
      " #   Column       Non-Null Count   Dtype  \n",
      "---  ------       --------------   -----  \n",
      " 0   InvoiceNo    541909 non-null  object \n",
      " 1   StockCode    541909 non-null  object \n",
      " 2   Description  540455 non-null  object \n",
      " 3   Quantity     541909 non-null  int64  \n",
      " 4   InvoiceDate  541909 non-null  object \n",
      " 5   UnitPrice    541909 non-null  float64\n",
      " 6   CustomerID   406829 non-null  float64\n",
      "dtypes: float64(2), int64(1), object(4)\n",
      "memory usage: 28.9+ MB\n"
     ]
    }
   ],
   "source": [
    "df.info()"
   ]
  },
  {
   "cell_type": "code",
   "execution_count": 5,
   "id": "b4e869cc",
   "metadata": {},
   "outputs": [
    {
     "data": {
      "text/plain": [
       "4070"
      ]
     },
     "execution_count": 5,
     "metadata": {},
     "output_type": "execute_result"
    }
   ],
   "source": [
    "df['StockCode'].nunique()"
   ]
  },
  {
   "cell_type": "code",
   "execution_count": 6,
   "id": "e95ff576",
   "metadata": {},
   "outputs": [
    {
     "data": {
      "text/plain": [
       "25900"
      ]
     },
     "execution_count": 6,
     "metadata": {},
     "output_type": "execute_result"
    }
   ],
   "source": [
    "df['InvoiceNo'].nunique()"
   ]
  },
  {
   "cell_type": "code",
   "execution_count": 7,
   "id": "6e6dfb13",
   "metadata": {},
   "outputs": [
    {
     "data": {
      "text/plain": [
       "4372"
      ]
     },
     "execution_count": 7,
     "metadata": {},
     "output_type": "execute_result"
    }
   ],
   "source": [
    "df['CustomerID'].nunique()"
   ]
  },
  {
   "cell_type": "code",
   "execution_count": 8,
   "id": "1ba49b5c",
   "metadata": {},
   "outputs": [
    {
     "name": "stdout",
     "output_type": "stream",
     "text": [
      "['WHITE HANGING HEART T-LIGHT HOLDER' 'WHITE METAL LANTERN'\n",
      " 'CREAM CUPID HEARTS COAT HANGER' ... 'lost'\n",
      " 'CREAM HANGING HEART T-LIGHT HOLDER' 'PAPER CRAFT , LITTLE BIRDIE']\n"
     ]
    }
   ],
   "source": [
    "# can I build groups of goods?\n",
    "print(df['Description'].unique())"
   ]
  },
  {
   "cell_type": "code",
   "execution_count": 9,
   "id": "7f8a3b50",
   "metadata": {},
   "outputs": [
    {
     "data": {
      "text/html": [
       "<div>\n",
       "<style scoped>\n",
       "    .dataframe tbody tr th:only-of-type {\n",
       "        vertical-align: middle;\n",
       "    }\n",
       "\n",
       "    .dataframe tbody tr th {\n",
       "        vertical-align: top;\n",
       "    }\n",
       "\n",
       "    .dataframe thead th {\n",
       "        text-align: right;\n",
       "    }\n",
       "</style>\n",
       "<table border=\"1\" class=\"dataframe\">\n",
       "  <thead>\n",
       "    <tr style=\"text-align: right;\">\n",
       "      <th></th>\n",
       "      <th>InvoiceNo</th>\n",
       "      <th>StockCode</th>\n",
       "      <th>Description</th>\n",
       "      <th>Quantity</th>\n",
       "      <th>InvoiceDate</th>\n",
       "      <th>UnitPrice</th>\n",
       "      <th>CustomerID</th>\n",
       "    </tr>\n",
       "  </thead>\n",
       "  <tbody>\n",
       "    <tr>\n",
       "      <th>150589</th>\n",
       "      <td>549451</td>\n",
       "      <td>22090</td>\n",
       "      <td>PAPER BUNTING RETROSPOT</td>\n",
       "      <td>6</td>\n",
       "      <td>04/06/2019 14:14</td>\n",
       "      <td>2.95</td>\n",
       "      <td>16556.0</td>\n",
       "    </tr>\n",
       "    <tr>\n",
       "      <th>106551</th>\n",
       "      <td>545333</td>\n",
       "      <td>22494</td>\n",
       "      <td>EMERGENCY FIRST AID TIN</td>\n",
       "      <td>3</td>\n",
       "      <td>02/27/2019 16:22</td>\n",
       "      <td>2.46</td>\n",
       "      <td>NaN</td>\n",
       "    </tr>\n",
       "    <tr>\n",
       "      <th>76396</th>\n",
       "      <td>542624</td>\n",
       "      <td>84559b</td>\n",
       "      <td>3D SHEET OF CAT STICKERS</td>\n",
       "      <td>1</td>\n",
       "      <td>01/29/2019 09:48</td>\n",
       "      <td>1.66</td>\n",
       "      <td>NaN</td>\n",
       "    </tr>\n",
       "    <tr>\n",
       "      <th>189295</th>\n",
       "      <td>553146</td>\n",
       "      <td>23134</td>\n",
       "      <td>LARGE ZINC HEART WALL ORGANISER</td>\n",
       "      <td>2</td>\n",
       "      <td>05/11/2019 13:52</td>\n",
       "      <td>8.25</td>\n",
       "      <td>14873.0</td>\n",
       "    </tr>\n",
       "    <tr>\n",
       "      <th>181372</th>\n",
       "      <td>552467</td>\n",
       "      <td>22112</td>\n",
       "      <td>CHOCOLATE HOT WATER BOTTLE</td>\n",
       "      <td>6</td>\n",
       "      <td>05/07/2019 15:29</td>\n",
       "      <td>4.95</td>\n",
       "      <td>15249.0</td>\n",
       "    </tr>\n",
       "    <tr>\n",
       "      <th>184867</th>\n",
       "      <td>552711</td>\n",
       "      <td>47566</td>\n",
       "      <td>PARTY BUNTING</td>\n",
       "      <td>4</td>\n",
       "      <td>05/09/2019 08:32</td>\n",
       "      <td>4.95</td>\n",
       "      <td>16143.0</td>\n",
       "    </tr>\n",
       "    <tr>\n",
       "      <th>177880</th>\n",
       "      <td>552187</td>\n",
       "      <td>23209</td>\n",
       "      <td>mailout</td>\n",
       "      <td>100</td>\n",
       "      <td>05/04/2019 13:59</td>\n",
       "      <td>0.00</td>\n",
       "      <td>NaN</td>\n",
       "    </tr>\n",
       "    <tr>\n",
       "      <th>131871</th>\n",
       "      <td>547650</td>\n",
       "      <td>22499</td>\n",
       "      <td>WOODEN UNION JACK BUNTING</td>\n",
       "      <td>3</td>\n",
       "      <td>03/22/2019 12:08</td>\n",
       "      <td>5.95</td>\n",
       "      <td>17059.0</td>\n",
       "    </tr>\n",
       "    <tr>\n",
       "      <th>327182</th>\n",
       "      <td>565618</td>\n",
       "      <td>10080</td>\n",
       "      <td>GROOVY CACTUS INFLATABLE</td>\n",
       "      <td>12</td>\n",
       "      <td>09/03/2019 15:40</td>\n",
       "      <td>0.39</td>\n",
       "      <td>15974.0</td>\n",
       "    </tr>\n",
       "    <tr>\n",
       "      <th>405777</th>\n",
       "      <td>571716</td>\n",
       "      <td>23169</td>\n",
       "      <td>CLASSIC GLASS COOKIE JAR</td>\n",
       "      <td>2</td>\n",
       "      <td>10/16/2019 17:05</td>\n",
       "      <td>8.29</td>\n",
       "      <td>NaN</td>\n",
       "    </tr>\n",
       "  </tbody>\n",
       "</table>\n",
       "</div>"
      ],
      "text/plain": [
       "       InvoiceNo StockCode                      Description  Quantity  \\\n",
       "150589    549451     22090          PAPER BUNTING RETROSPOT         6   \n",
       "106551    545333     22494         EMERGENCY FIRST AID TIN          3   \n",
       "76396     542624    84559b         3D SHEET OF CAT STICKERS         1   \n",
       "189295    553146     23134  LARGE ZINC HEART WALL ORGANISER         2   \n",
       "181372    552467     22112       CHOCOLATE HOT WATER BOTTLE         6   \n",
       "184867    552711     47566                    PARTY BUNTING         4   \n",
       "177880    552187     23209                          mailout       100   \n",
       "131871    547650     22499        WOODEN UNION JACK BUNTING         3   \n",
       "327182    565618     10080         GROOVY CACTUS INFLATABLE        12   \n",
       "405777    571716     23169         CLASSIC GLASS COOKIE JAR         2   \n",
       "\n",
       "             InvoiceDate  UnitPrice  CustomerID  \n",
       "150589  04/06/2019 14:14       2.95     16556.0  \n",
       "106551  02/27/2019 16:22       2.46         NaN  \n",
       "76396   01/29/2019 09:48       1.66         NaN  \n",
       "189295  05/11/2019 13:52       8.25     14873.0  \n",
       "181372  05/07/2019 15:29       4.95     15249.0  \n",
       "184867  05/09/2019 08:32       4.95     16143.0  \n",
       "177880  05/04/2019 13:59       0.00         NaN  \n",
       "131871  03/22/2019 12:08       5.95     17059.0  \n",
       "327182  09/03/2019 15:40       0.39     15974.0  \n",
       "405777  10/16/2019 17:05       8.29         NaN  "
      ]
     },
     "execution_count": 9,
     "metadata": {},
     "output_type": "execute_result"
    }
   ],
   "source": [
    "df.sample(10)"
   ]
  },
  {
   "cell_type": "code",
   "execution_count": 10,
   "id": "a9d70796",
   "metadata": {},
   "outputs": [],
   "source": [
    "df_minus_quantity = df[df['Quantity'] < 0]"
   ]
  },
  {
   "cell_type": "code",
   "execution_count": 11,
   "id": "b9e56844",
   "metadata": {},
   "outputs": [
    {
     "name": "stdout",
     "output_type": "stream",
     "text": [
      "<class 'pandas.core.frame.DataFrame'>\n",
      "Int64Index: 10624 entries, 141 to 541717\n",
      "Data columns (total 7 columns):\n",
      " #   Column       Non-Null Count  Dtype  \n",
      "---  ------       --------------  -----  \n",
      " 0   InvoiceNo    10624 non-null  object \n",
      " 1   StockCode    10624 non-null  object \n",
      " 2   Description  9762 non-null   object \n",
      " 3   Quantity     10624 non-null  int64  \n",
      " 4   InvoiceDate  10624 non-null  object \n",
      " 5   UnitPrice    10624 non-null  float64\n",
      " 6   CustomerID   8905 non-null   float64\n",
      "dtypes: float64(2), int64(1), object(4)\n",
      "memory usage: 664.0+ KB\n"
     ]
    }
   ],
   "source": [
    "# either cancellations or booking fees\n",
    "df_minus_quantity.info()"
   ]
  },
  {
   "cell_type": "code",
   "execution_count": 12,
   "id": "86b55526",
   "metadata": {},
   "outputs": [
    {
     "data": {
      "text/html": [
       "<div>\n",
       "<style scoped>\n",
       "    .dataframe tbody tr th:only-of-type {\n",
       "        vertical-align: middle;\n",
       "    }\n",
       "\n",
       "    .dataframe tbody tr th {\n",
       "        vertical-align: top;\n",
       "    }\n",
       "\n",
       "    .dataframe thead th {\n",
       "        text-align: right;\n",
       "    }\n",
       "</style>\n",
       "<table border=\"1\" class=\"dataframe\">\n",
       "  <thead>\n",
       "    <tr style=\"text-align: right;\">\n",
       "      <th></th>\n",
       "      <th>InvoiceNo</th>\n",
       "      <th>StockCode</th>\n",
       "      <th>Description</th>\n",
       "      <th>Quantity</th>\n",
       "      <th>InvoiceDate</th>\n",
       "      <th>UnitPrice</th>\n",
       "      <th>CustomerID</th>\n",
       "    </tr>\n",
       "  </thead>\n",
       "  <tbody>\n",
       "    <tr>\n",
       "      <th>410570</th>\n",
       "      <td>C572111</td>\n",
       "      <td>22138</td>\n",
       "      <td>BAKING SET 9 PIECE RETROSPOT</td>\n",
       "      <td>-1</td>\n",
       "      <td>10/18/2019 19:13</td>\n",
       "      <td>4.95</td>\n",
       "      <td>13136.0</td>\n",
       "    </tr>\n",
       "    <tr>\n",
       "      <th>293816</th>\n",
       "      <td>C562620</td>\n",
       "      <td>22798</td>\n",
       "      <td>ANTIQUE GLASS DRESSING TABLE POT</td>\n",
       "      <td>-1</td>\n",
       "      <td>08/06/2019 12:34</td>\n",
       "      <td>2.95</td>\n",
       "      <td>13089.0</td>\n",
       "    </tr>\n",
       "    <tr>\n",
       "      <th>267600</th>\n",
       "      <td>C560330</td>\n",
       "      <td>22981</td>\n",
       "      <td>PANTRY APPLE CORER</td>\n",
       "      <td>-1</td>\n",
       "      <td>07/16/2019 11:10</td>\n",
       "      <td>1.45</td>\n",
       "      <td>17841.0</td>\n",
       "    </tr>\n",
       "    <tr>\n",
       "      <th>270091</th>\n",
       "      <td>C560540</td>\n",
       "      <td>22546</td>\n",
       "      <td>MINI JIGSAW PURDEY</td>\n",
       "      <td>-1</td>\n",
       "      <td>07/17/2019 12:26</td>\n",
       "      <td>0.42</td>\n",
       "      <td>12415.0</td>\n",
       "    </tr>\n",
       "    <tr>\n",
       "      <th>185149</th>\n",
       "      <td>552763</td>\n",
       "      <td>21137</td>\n",
       "      <td>NaN</td>\n",
       "      <td>-25</td>\n",
       "      <td>05/09/2019 11:33</td>\n",
       "      <td>0.00</td>\n",
       "      <td>NaN</td>\n",
       "    </tr>\n",
       "    <tr>\n",
       "      <th>423489</th>\n",
       "      <td>C573148</td>\n",
       "      <td>23462</td>\n",
       "      <td>ROCOCO WALL MIRROR WHITE</td>\n",
       "      <td>-1</td>\n",
       "      <td>10/25/2019 19:16</td>\n",
       "      <td>19.95</td>\n",
       "      <td>15469.0</td>\n",
       "    </tr>\n",
       "    <tr>\n",
       "      <th>313425</th>\n",
       "      <td>C564493</td>\n",
       "      <td>22364</td>\n",
       "      <td>GLASS JAR DIGESTIVE BISCUITS</td>\n",
       "      <td>-4</td>\n",
       "      <td>08/23/2019 14:19</td>\n",
       "      <td>2.95</td>\n",
       "      <td>13089.0</td>\n",
       "    </tr>\n",
       "    <tr>\n",
       "      <th>382827</th>\n",
       "      <td>C569964</td>\n",
       "      <td>23032</td>\n",
       "      <td>DRAWER KNOB CRACKLE GLAZE IVORY</td>\n",
       "      <td>-1</td>\n",
       "      <td>10/04/2019 18:46</td>\n",
       "      <td>1.65</td>\n",
       "      <td>16523.0</td>\n",
       "    </tr>\n",
       "    <tr>\n",
       "      <th>331034</th>\n",
       "      <td>C565962</td>\n",
       "      <td>22665</td>\n",
       "      <td>RECIPE BOX BLUE SKETCHBOOK DESIGN</td>\n",
       "      <td>-1</td>\n",
       "      <td>09/06/2019 11:25</td>\n",
       "      <td>2.95</td>\n",
       "      <td>14410.0</td>\n",
       "    </tr>\n",
       "    <tr>\n",
       "      <th>12069</th>\n",
       "      <td>537363</td>\n",
       "      <td>84569B</td>\n",
       "      <td>NaN</td>\n",
       "      <td>-20</td>\n",
       "      <td>12/04/2018 12:35</td>\n",
       "      <td>0.00</td>\n",
       "      <td>NaN</td>\n",
       "    </tr>\n",
       "  </tbody>\n",
       "</table>\n",
       "</div>"
      ],
      "text/plain": [
       "       InvoiceNo StockCode                        Description  Quantity  \\\n",
       "410570   C572111     22138      BAKING SET 9 PIECE RETROSPOT         -1   \n",
       "293816   C562620     22798   ANTIQUE GLASS DRESSING TABLE POT        -1   \n",
       "267600   C560330     22981                 PANTRY APPLE CORER        -1   \n",
       "270091   C560540     22546                 MINI JIGSAW PURDEY        -1   \n",
       "185149    552763     21137                                NaN       -25   \n",
       "423489   C573148     23462           ROCOCO WALL MIRROR WHITE        -1   \n",
       "313425   C564493     22364       GLASS JAR DIGESTIVE BISCUITS        -4   \n",
       "382827   C569964     23032    DRAWER KNOB CRACKLE GLAZE IVORY        -1   \n",
       "331034   C565962     22665  RECIPE BOX BLUE SKETCHBOOK DESIGN        -1   \n",
       "12069     537363    84569B                                NaN       -20   \n",
       "\n",
       "             InvoiceDate  UnitPrice  CustomerID  \n",
       "410570  10/18/2019 19:13       4.95     13136.0  \n",
       "293816  08/06/2019 12:34       2.95     13089.0  \n",
       "267600  07/16/2019 11:10       1.45     17841.0  \n",
       "270091  07/17/2019 12:26       0.42     12415.0  \n",
       "185149  05/09/2019 11:33       0.00         NaN  \n",
       "423489  10/25/2019 19:16      19.95     15469.0  \n",
       "313425  08/23/2019 14:19       2.95     13089.0  \n",
       "382827  10/04/2019 18:46       1.65     16523.0  \n",
       "331034  09/06/2019 11:25       2.95     14410.0  \n",
       "12069   12/04/2018 12:35       0.00         NaN  "
      ]
     },
     "execution_count": 12,
     "metadata": {},
     "output_type": "execute_result"
    }
   ],
   "source": [
    "df_minus_quantity.sample(10)"
   ]
  },
  {
   "cell_type": "code",
   "execution_count": 13,
   "id": "2392e502",
   "metadata": {},
   "outputs": [],
   "source": [
    "df_minus_nan = df_minus_quantity[df_minus_quantity['Description'].isna()]"
   ]
  },
  {
   "cell_type": "code",
   "execution_count": 14,
   "id": "81039c34",
   "metadata": {},
   "outputs": [
    {
     "name": "stdout",
     "output_type": "stream",
     "text": [
      "<class 'pandas.core.frame.DataFrame'>\n",
      "Int64Index: 862 entries, 2406 to 535322\n",
      "Data columns (total 7 columns):\n",
      " #   Column       Non-Null Count  Dtype  \n",
      "---  ------       --------------  -----  \n",
      " 0   InvoiceNo    862 non-null    object \n",
      " 1   StockCode    862 non-null    object \n",
      " 2   Description  0 non-null      object \n",
      " 3   Quantity     862 non-null    int64  \n",
      " 4   InvoiceDate  862 non-null    object \n",
      " 5   UnitPrice    862 non-null    float64\n",
      " 6   CustomerID   0 non-null      float64\n",
      "dtypes: float64(2), int64(1), object(4)\n",
      "memory usage: 53.9+ KB\n"
     ]
    }
   ],
   "source": [
    "df_minus_nan.info()"
   ]
  },
  {
   "cell_type": "code",
   "execution_count": 15,
   "id": "54cf3cd7",
   "metadata": {},
   "outputs": [
    {
     "data": {
      "text/html": [
       "<div>\n",
       "<style scoped>\n",
       "    .dataframe tbody tr th:only-of-type {\n",
       "        vertical-align: middle;\n",
       "    }\n",
       "\n",
       "    .dataframe tbody tr th {\n",
       "        vertical-align: top;\n",
       "    }\n",
       "\n",
       "    .dataframe thead th {\n",
       "        text-align: right;\n",
       "    }\n",
       "</style>\n",
       "<table border=\"1\" class=\"dataframe\">\n",
       "  <thead>\n",
       "    <tr style=\"text-align: right;\">\n",
       "      <th></th>\n",
       "      <th>InvoiceNo</th>\n",
       "      <th>StockCode</th>\n",
       "      <th>Description</th>\n",
       "      <th>Quantity</th>\n",
       "      <th>InvoiceDate</th>\n",
       "      <th>UnitPrice</th>\n",
       "      <th>CustomerID</th>\n",
       "    </tr>\n",
       "  </thead>\n",
       "  <tbody>\n",
       "    <tr>\n",
       "      <th>172872</th>\n",
       "      <td>551573</td>\n",
       "      <td>22726</td>\n",
       "      <td>NaN</td>\n",
       "      <td>-5</td>\n",
       "      <td>05/01/2019 11:15</td>\n",
       "      <td>0.0</td>\n",
       "      <td>NaN</td>\n",
       "    </tr>\n",
       "    <tr>\n",
       "      <th>45150</th>\n",
       "      <td>540252</td>\n",
       "      <td>22198</td>\n",
       "      <td>NaN</td>\n",
       "      <td>-100</td>\n",
       "      <td>01/03/2019 16:25</td>\n",
       "      <td>0.0</td>\n",
       "      <td>NaN</td>\n",
       "    </tr>\n",
       "    <tr>\n",
       "      <th>221877</th>\n",
       "      <td>556287</td>\n",
       "      <td>16043</td>\n",
       "      <td>NaN</td>\n",
       "      <td>-45</td>\n",
       "      <td>06/08/2019 09:22</td>\n",
       "      <td>0.0</td>\n",
       "      <td>NaN</td>\n",
       "    </tr>\n",
       "    <tr>\n",
       "      <th>374540</th>\n",
       "      <td>569380</td>\n",
       "      <td>21809</td>\n",
       "      <td>NaN</td>\n",
       "      <td>-140</td>\n",
       "      <td>10/01/2019 16:40</td>\n",
       "      <td>0.0</td>\n",
       "      <td>NaN</td>\n",
       "    </tr>\n",
       "    <tr>\n",
       "      <th>150148</th>\n",
       "      <td>549330</td>\n",
       "      <td>84251J</td>\n",
       "      <td>NaN</td>\n",
       "      <td>-28</td>\n",
       "      <td>04/06/2019 10:53</td>\n",
       "      <td>0.0</td>\n",
       "      <td>NaN</td>\n",
       "    </tr>\n",
       "  </tbody>\n",
       "</table>\n",
       "</div>"
      ],
      "text/plain": [
       "       InvoiceNo StockCode Description  Quantity       InvoiceDate  UnitPrice  \\\n",
       "172872    551573     22726         NaN        -5  05/01/2019 11:15        0.0   \n",
       "45150     540252     22198         NaN      -100  01/03/2019 16:25        0.0   \n",
       "221877    556287     16043         NaN       -45  06/08/2019 09:22        0.0   \n",
       "374540    569380     21809         NaN      -140  10/01/2019 16:40        0.0   \n",
       "150148    549330    84251J         NaN       -28  04/06/2019 10:53        0.0   \n",
       "\n",
       "        CustomerID  \n",
       "172872         NaN  \n",
       "45150          NaN  \n",
       "221877         NaN  \n",
       "374540         NaN  \n",
       "150148         NaN  "
      ]
     },
     "execution_count": 15,
     "metadata": {},
     "output_type": "execute_result"
    }
   ],
   "source": [
    "df_minus_nan.sample(5)"
   ]
  },
  {
   "cell_type": "markdown",
   "id": "28ea9a7d",
   "metadata": {},
   "source": [
    "## CLEANING\n",
    "\n",
    "- cleaning 1: missing 'Description' / other rows with same 'InvoiceNo' have an Description - copy from them\n",
    "- cleaning 2: 'StockCode' not all letters uppercase / set uppercase\n",
    "- cleaning 3: 'StockCode' isn't an article / drop these rows\n",
    "- cleaning 4: 'Description' filter lowercase (e.g. smashed) and drop\n",
    "- cleaning 5: check for double values\n",
    "- cleaning 6: set correct date type - 'InvoiceDate' datetime, 'CustomerID' int & set 'CustomerID'-NaN to 0\n",
    "\n",
    "\n",
    "- CREATE REVENUE COLUMN"
   ]
  },
  {
   "cell_type": "markdown",
   "id": "b124e261",
   "metadata": {},
   "source": [
    "### cleaning 1: missing 'Description'"
   ]
  },
  {
   "cell_type": "code",
   "execution_count": 16,
   "id": "82f5376b",
   "metadata": {},
   "outputs": [
    {
     "name": "stdout",
     "output_type": "stream",
     "text": [
      "<class 'pandas.core.frame.DataFrame'>\n",
      "Int64Index: 6 entries, 15095 to 75224\n",
      "Data columns (total 7 columns):\n",
      " #   Column       Non-Null Count  Dtype  \n",
      "---  ------       --------------  -----  \n",
      " 0   InvoiceNo    6 non-null      object \n",
      " 1   StockCode    6 non-null      object \n",
      " 2   Description  3 non-null      object \n",
      " 3   Quantity     6 non-null      int64  \n",
      " 4   InvoiceDate  6 non-null      object \n",
      " 5   UnitPrice    6 non-null      float64\n",
      " 6   CustomerID   1 non-null      float64\n",
      "dtypes: float64(2), int64(1), object(4)\n",
      "memory usage: 384.0+ bytes\n"
     ]
    }
   ],
   "source": [
    "df[df['StockCode'] == '20892'].info()"
   ]
  },
  {
   "cell_type": "code",
   "execution_count": 17,
   "id": "71fda54f",
   "metadata": {},
   "outputs": [
    {
     "name": "stdout",
     "output_type": "stream",
     "text": [
      "1342  Descriptions set\n",
      "112  can not set\n"
     ]
    }
   ],
   "source": [
    "# makes an dictionary with all stock codes as key and descriptions as value,\n",
    "# replace NaN-'Description' with values from dictionary\n",
    "df_non_null = df[['StockCode', 'Description']].dropna()\n",
    "description_dict = dict(zip(df_non_null.StockCode, df_non_null.Description))\n",
    "count = 0\n",
    "count_n = 0\n",
    "\n",
    "for index, row in df.iterrows():\n",
    "    value = row['Description']\n",
    "    if pd.isnull(value):\n",
    "        try:\n",
    "            df.at[index, 'Description'] = description_dict[row['StockCode']]\n",
    "            count += 1\n",
    "        except:\n",
    "            count_n += 1\n",
    "        \n",
    "print(count, ' Descriptions set')\n",
    "print(count_n, ' can not set')"
   ]
  },
  {
   "cell_type": "code",
   "execution_count": 18,
   "id": "03e79300",
   "metadata": {},
   "outputs": [
    {
     "name": "stdout",
     "output_type": "stream",
     "text": [
      "<class 'pandas.core.frame.DataFrame'>\n",
      "Int64Index: 6 entries, 15095 to 75224\n",
      "Data columns (total 7 columns):\n",
      " #   Column       Non-Null Count  Dtype  \n",
      "---  ------       --------------  -----  \n",
      " 0   InvoiceNo    6 non-null      object \n",
      " 1   StockCode    6 non-null      object \n",
      " 2   Description  6 non-null      object \n",
      " 3   Quantity     6 non-null      int64  \n",
      " 4   InvoiceDate  6 non-null      object \n",
      " 5   UnitPrice    6 non-null      float64\n",
      " 6   CustomerID   1 non-null      float64\n",
      "dtypes: float64(2), int64(1), object(4)\n",
      "memory usage: 384.0+ bytes\n"
     ]
    }
   ],
   "source": [
    "df[df['StockCode'] == '20892'].info()"
   ]
  },
  {
   "cell_type": "markdown",
   "id": "e98f970e",
   "metadata": {},
   "source": [
    "### cleaning 2: 'StockCode' not all letters uppercase / set uppercase"
   ]
  },
  {
   "cell_type": "code",
   "execution_count": 19,
   "id": "367c8da7",
   "metadata": {},
   "outputs": [],
   "source": [
    "df['StockCode'] = df['StockCode'].str.upper()"
   ]
  },
  {
   "cell_type": "markdown",
   "id": "390a11dd",
   "metadata": {},
   "source": [
    "### cleaning 3: 'StockCode' isn't an article / drop these rows"
   ]
  },
  {
   "cell_type": "code",
   "execution_count": 20,
   "id": "50aafbb7",
   "metadata": {},
   "outputs": [],
   "source": [
    "# StockCode == more than 3 Letters\n",
    "df_no_article = df[df['StockCode'].str.contains(pat='[A-Za-z]{3,}', regex=True)]"
   ]
  },
  {
   "cell_type": "code",
   "execution_count": 21,
   "id": "a10bde11",
   "metadata": {},
   "outputs": [
    {
     "data": {
      "text/plain": [
       "array(['POST', 'DOT', 'BANK CHARGES', 'AMAZONFEE', 'DCGS0076', 'DCGS0003',\n",
       "       'GIFT_0001_40', 'DCGS0070', 'GIFT_0001_50', 'GIFT_0001_30',\n",
       "       'GIFT_0001_20', 'DCGS0055', 'DCGS0072', 'DCGS0074', 'DCGS0069',\n",
       "       'DCGS0057', 'DCGSSBOY', 'DCGSSGIRL', 'GIFT_0001_10', 'PADS',\n",
       "       'DCGS0004', 'DCGS0073', 'DCGS0071', 'DCGS0068', 'DCGS0067',\n",
       "       'DCGS0066P', 'CRUK'], dtype=object)"
      ]
     },
     "execution_count": 21,
     "metadata": {},
     "output_type": "execute_result"
    }
   ],
   "source": [
    "df_no_article['StockCode'].unique()"
   ]
  },
  {
   "cell_type": "code",
   "execution_count": 22,
   "id": "8f97ffb8",
   "metadata": {},
   "outputs": [],
   "source": [
    "# drop no_article - create new dfc (Data Frame Clear)\n",
    "dfc = df.drop(df_no_article.index)"
   ]
  },
  {
   "cell_type": "code",
   "execution_count": 23,
   "id": "c44a961d",
   "metadata": {},
   "outputs": [
    {
     "name": "stdout",
     "output_type": "stream",
     "text": [
      "<class 'pandas.core.frame.DataFrame'>\n",
      "Int64Index: 539773 entries, 0 to 541908\n",
      "Data columns (total 7 columns):\n",
      " #   Column       Non-Null Count   Dtype  \n",
      "---  ------       --------------   -----  \n",
      " 0   InvoiceNo    539773 non-null  object \n",
      " 1   StockCode    539773 non-null  object \n",
      " 2   Description  539667 non-null  object \n",
      " 3   Quantity     539773 non-null  int64  \n",
      " 4   InvoiceDate  539773 non-null  object \n",
      " 5   UnitPrice    539773 non-null  float64\n",
      " 6   CustomerID   405585 non-null  float64\n",
      "dtypes: float64(2), int64(1), object(4)\n",
      "memory usage: 32.9+ MB\n"
     ]
    }
   ],
   "source": [
    "dfc.info()"
   ]
  },
  {
   "cell_type": "code",
   "execution_count": 24,
   "id": "668754ce",
   "metadata": {},
   "outputs": [],
   "source": [
    "# drop 'UnitPrice' and 'Description' == Null\n",
    "df_stock_price_null = dfc.loc[(dfc['UnitPrice'] == 0) & (df['Description'].isnull())]\n",
    "dfc = dfc.drop(df_stock_price_null.index)"
   ]
  },
  {
   "cell_type": "code",
   "execution_count": 25,
   "id": "ab0e7efd",
   "metadata": {},
   "outputs": [
    {
     "name": "stdout",
     "output_type": "stream",
     "text": [
      "<class 'pandas.core.frame.DataFrame'>\n",
      "Int64Index: 539667 entries, 0 to 541908\n",
      "Data columns (total 7 columns):\n",
      " #   Column       Non-Null Count   Dtype  \n",
      "---  ------       --------------   -----  \n",
      " 0   InvoiceNo    539667 non-null  object \n",
      " 1   StockCode    539667 non-null  object \n",
      " 2   Description  539667 non-null  object \n",
      " 3   Quantity     539667 non-null  int64  \n",
      " 4   InvoiceDate  539667 non-null  object \n",
      " 5   UnitPrice    539667 non-null  float64\n",
      " 6   CustomerID   405585 non-null  float64\n",
      "dtypes: float64(2), int64(1), object(4)\n",
      "memory usage: 32.9+ MB\n"
     ]
    }
   ],
   "source": [
    "dfc.info()"
   ]
  },
  {
   "cell_type": "code",
   "execution_count": 26,
   "id": "f70328b2",
   "metadata": {},
   "outputs": [],
   "source": [
    "# drop 'StockCode' M (Manual), D (Discount) ???"
   ]
  },
  {
   "cell_type": "markdown",
   "id": "aa0d72fd",
   "metadata": {},
   "source": [
    "### cleaning 4: 'Description' filter lowercase (e.g. smashed, missing) and drop"
   ]
  },
  {
   "cell_type": "code",
   "execution_count": 27,
   "id": "c14c0576",
   "metadata": {},
   "outputs": [],
   "source": [
    "dfc_desc_lower = dfc[dfc['Description'].str.contains(pat='[a-z]{3,}', regex=True)]"
   ]
  },
  {
   "cell_type": "code",
   "execution_count": 28,
   "id": "66ba6619",
   "metadata": {},
   "outputs": [],
   "source": [
    "dfc_desc_lower = dfc_desc_lower[dfc_desc_lower['UnitPrice'] <= 0]"
   ]
  },
  {
   "cell_type": "code",
   "execution_count": 29,
   "id": "516ecafb",
   "metadata": {},
   "outputs": [
    {
     "data": {
      "text/html": [
       "<div>\n",
       "<style scoped>\n",
       "    .dataframe tbody tr th:only-of-type {\n",
       "        vertical-align: middle;\n",
       "    }\n",
       "\n",
       "    .dataframe tbody tr th {\n",
       "        vertical-align: top;\n",
       "    }\n",
       "\n",
       "    .dataframe thead th {\n",
       "        text-align: right;\n",
       "    }\n",
       "</style>\n",
       "<table border=\"1\" class=\"dataframe\">\n",
       "  <thead>\n",
       "    <tr style=\"text-align: right;\">\n",
       "      <th></th>\n",
       "      <th>InvoiceNo</th>\n",
       "      <th>StockCode</th>\n",
       "      <th>Description</th>\n",
       "      <th>Quantity</th>\n",
       "      <th>InvoiceDate</th>\n",
       "      <th>UnitPrice</th>\n",
       "      <th>CustomerID</th>\n",
       "    </tr>\n",
       "  </thead>\n",
       "  <tbody>\n",
       "    <tr>\n",
       "      <th>535336</th>\n",
       "      <td>581213</td>\n",
       "      <td>22576</td>\n",
       "      <td>check</td>\n",
       "      <td>-30</td>\n",
       "      <td>12/05/2019 18:38</td>\n",
       "      <td>0.0</td>\n",
       "      <td>NaN</td>\n",
       "    </tr>\n",
       "    <tr>\n",
       "      <th>536908</th>\n",
       "      <td>581226</td>\n",
       "      <td>23090</td>\n",
       "      <td>missing</td>\n",
       "      <td>-338</td>\n",
       "      <td>12/06/2019 09:56</td>\n",
       "      <td>0.0</td>\n",
       "      <td>NaN</td>\n",
       "    </tr>\n",
       "    <tr>\n",
       "      <th>538919</th>\n",
       "      <td>581422</td>\n",
       "      <td>23169</td>\n",
       "      <td>smashed</td>\n",
       "      <td>-235</td>\n",
       "      <td>12/06/2019 15:24</td>\n",
       "      <td>0.0</td>\n",
       "      <td>NaN</td>\n",
       "    </tr>\n",
       "  </tbody>\n",
       "</table>\n",
       "</div>"
      ],
      "text/plain": [
       "       InvoiceNo StockCode Description  Quantity       InvoiceDate  UnitPrice  \\\n",
       "535336    581213     22576       check       -30  12/05/2019 18:38        0.0   \n",
       "536908    581226     23090     missing      -338  12/06/2019 09:56        0.0   \n",
       "538919    581422     23169     smashed      -235  12/06/2019 15:24        0.0   \n",
       "\n",
       "        CustomerID  \n",
       "535336         NaN  \n",
       "536908         NaN  \n",
       "538919         NaN  "
      ]
     },
     "execution_count": 29,
     "metadata": {},
     "output_type": "execute_result"
    }
   ],
   "source": [
    "dfc_desc_lower.tail(3)"
   ]
  },
  {
   "cell_type": "code",
   "execution_count": 30,
   "id": "f892c644",
   "metadata": {},
   "outputs": [],
   "source": [
    "dfc = dfc.drop(dfc_desc_lower.index)"
   ]
  },
  {
   "cell_type": "code",
   "execution_count": 31,
   "id": "a86d49d6",
   "metadata": {},
   "outputs": [
    {
     "name": "stdout",
     "output_type": "stream",
     "text": [
      "<class 'pandas.core.frame.DataFrame'>\n",
      "Int64Index: 539042 entries, 0 to 541908\n",
      "Data columns (total 7 columns):\n",
      " #   Column       Non-Null Count   Dtype  \n",
      "---  ------       --------------   -----  \n",
      " 0   InvoiceNo    539042 non-null  object \n",
      " 1   StockCode    539042 non-null  object \n",
      " 2   Description  539042 non-null  object \n",
      " 3   Quantity     539042 non-null  int64  \n",
      " 4   InvoiceDate  539042 non-null  object \n",
      " 5   UnitPrice    539042 non-null  float64\n",
      " 6   CustomerID   405579 non-null  float64\n",
      "dtypes: float64(2), int64(1), object(4)\n",
      "memory usage: 32.9+ MB\n"
     ]
    }
   ],
   "source": [
    "dfc.info()"
   ]
  },
  {
   "cell_type": "markdown",
   "id": "97c16bdc",
   "metadata": {},
   "source": [
    "### cleaning 5: check for double values"
   ]
  },
  {
   "cell_type": "code",
   "execution_count": 32,
   "id": "7e5a74a2",
   "metadata": {},
   "outputs": [],
   "source": [
    "#dfc[dfc.duplicated(subset=['InvoiceNo', 'StockCode', 'Description', 'Quantity', 'InvoiceDate', 'UnitPrice', 'CustomerID'])]"
   ]
  },
  {
   "cell_type": "markdown",
   "id": "ca848a83",
   "metadata": {},
   "source": [
    "### cleaning 6: set correct date type - 'InvoiceDate' datetime, 'CustomerID' int"
   ]
  },
  {
   "cell_type": "code",
   "execution_count": 33,
   "id": "a5ffa8ac",
   "metadata": {},
   "outputs": [],
   "source": [
    "dfc['InvoiceDate'] = df['InvoiceDate'].astype('datetime64[ns]')\n",
    "dfc['CustomerID'] = dfc['CustomerID'].fillna(0)\n",
    "dfc['CustomerID'] = dfc['CustomerID'].astype('int64')"
   ]
  },
  {
   "cell_type": "markdown",
   "id": "cfed32f9",
   "metadata": {},
   "source": [
    "### Create Revenue Column"
   ]
  },
  {
   "cell_type": "code",
   "execution_count": 34,
   "id": "c2f68216",
   "metadata": {},
   "outputs": [],
   "source": [
    "dfc['Revenue'] = dfc['Quantity'] * dfc['UnitPrice']"
   ]
  },
  {
   "cell_type": "code",
   "execution_count": 35,
   "id": "74852044",
   "metadata": {},
   "outputs": [
    {
     "name": "stdout",
     "output_type": "stream",
     "text": [
      "<class 'pandas.core.frame.DataFrame'>\n",
      "Int64Index: 539042 entries, 0 to 541908\n",
      "Data columns (total 8 columns):\n",
      " #   Column       Non-Null Count   Dtype         \n",
      "---  ------       --------------   -----         \n",
      " 0   InvoiceNo    539042 non-null  object        \n",
      " 1   StockCode    539042 non-null  object        \n",
      " 2   Description  539042 non-null  object        \n",
      " 3   Quantity     539042 non-null  int64         \n",
      " 4   InvoiceDate  539042 non-null  datetime64[ns]\n",
      " 5   UnitPrice    539042 non-null  float64       \n",
      " 6   CustomerID   539042 non-null  int64         \n",
      " 7   Revenue      539042 non-null  float64       \n",
      "dtypes: datetime64[ns](1), float64(2), int64(2), object(3)\n",
      "memory usage: 37.0+ MB\n"
     ]
    }
   ],
   "source": [
    "dfc.info()"
   ]
  },
  {
   "cell_type": "code",
   "execution_count": 36,
   "id": "68c39fd8",
   "metadata": {},
   "outputs": [
    {
     "data": {
      "text/plain": [
       "Timedelta('373 days 04:24:00')"
      ]
     },
     "execution_count": 36,
     "metadata": {},
     "output_type": "execute_result"
    }
   ],
   "source": [
    "first = dfc['InvoiceDate'].min()\n",
    "last = dfc['InvoiceDate'].max()\n",
    "last - first"
   ]
  },
  {
   "cell_type": "code",
   "execution_count": null,
   "id": "25a1a373",
   "metadata": {},
   "outputs": [],
   "source": []
  },
  {
   "cell_type": "code",
   "execution_count": 37,
   "id": "9878bd43",
   "metadata": {},
   "outputs": [
    {
     "data": {
      "text/html": [
       "<div>\n",
       "<style scoped>\n",
       "    .dataframe tbody tr th:only-of-type {\n",
       "        vertical-align: middle;\n",
       "    }\n",
       "\n",
       "    .dataframe tbody tr th {\n",
       "        vertical-align: top;\n",
       "    }\n",
       "\n",
       "    .dataframe thead th {\n",
       "        text-align: right;\n",
       "    }\n",
       "</style>\n",
       "<table border=\"1\" class=\"dataframe\">\n",
       "  <thead>\n",
       "    <tr style=\"text-align: right;\">\n",
       "      <th></th>\n",
       "      <th>Quantity</th>\n",
       "      <th>UnitPrice</th>\n",
       "      <th>CustomerID</th>\n",
       "      <th>Revenue</th>\n",
       "    </tr>\n",
       "  </thead>\n",
       "  <tbody>\n",
       "    <tr>\n",
       "      <th>count</th>\n",
       "      <td>539042.000000</td>\n",
       "      <td>539042.000000</td>\n",
       "      <td>539042.000000</td>\n",
       "      <td>539042.000000</td>\n",
       "    </tr>\n",
       "    <tr>\n",
       "      <th>mean</th>\n",
       "      <td>9.833416</td>\n",
       "      <td>3.715820</td>\n",
       "      <td>11507.963572</td>\n",
       "      <td>18.055998</td>\n",
       "    </tr>\n",
       "    <tr>\n",
       "      <th>std</th>\n",
       "      <td>216.642889</td>\n",
       "      <td>61.060588</td>\n",
       "      <td>6766.135438</td>\n",
       "      <td>372.231465</td>\n",
       "    </tr>\n",
       "    <tr>\n",
       "      <th>min</th>\n",
       "      <td>-80995.000000</td>\n",
       "      <td>0.000000</td>\n",
       "      <td>0.000000</td>\n",
       "      <td>-168469.600000</td>\n",
       "    </tr>\n",
       "    <tr>\n",
       "      <th>25%</th>\n",
       "      <td>1.000000</td>\n",
       "      <td>1.250000</td>\n",
       "      <td>12362.000000</td>\n",
       "      <td>3.400000</td>\n",
       "    </tr>\n",
       "    <tr>\n",
       "      <th>50%</th>\n",
       "      <td>3.000000</td>\n",
       "      <td>2.080000</td>\n",
       "      <td>14397.000000</td>\n",
       "      <td>9.480000</td>\n",
       "    </tr>\n",
       "    <tr>\n",
       "      <th>75%</th>\n",
       "      <td>10.000000</td>\n",
       "      <td>4.130000</td>\n",
       "      <td>16266.000000</td>\n",
       "      <td>17.400000</td>\n",
       "    </tr>\n",
       "    <tr>\n",
       "      <th>max</th>\n",
       "      <td>80995.000000</td>\n",
       "      <td>38970.000000</td>\n",
       "      <td>18287.000000</td>\n",
       "      <td>168469.600000</td>\n",
       "    </tr>\n",
       "  </tbody>\n",
       "</table>\n",
       "</div>"
      ],
      "text/plain": [
       "            Quantity      UnitPrice     CustomerID        Revenue\n",
       "count  539042.000000  539042.000000  539042.000000  539042.000000\n",
       "mean        9.833416       3.715820   11507.963572      18.055998\n",
       "std       216.642889      61.060588    6766.135438     372.231465\n",
       "min    -80995.000000       0.000000       0.000000 -168469.600000\n",
       "25%         1.000000       1.250000   12362.000000       3.400000\n",
       "50%         3.000000       2.080000   14397.000000       9.480000\n",
       "75%        10.000000       4.130000   16266.000000      17.400000\n",
       "max     80995.000000   38970.000000   18287.000000  168469.600000"
      ]
     },
     "execution_count": 37,
     "metadata": {},
     "output_type": "execute_result"
    }
   ],
   "source": [
    "dfc.describe()"
   ]
  },
  {
   "cell_type": "code",
   "execution_count": 38,
   "id": "fd4c7969",
   "metadata": {},
   "outputs": [
    {
     "data": {
      "text/html": [
       "<div>\n",
       "<style scoped>\n",
       "    .dataframe tbody tr th:only-of-type {\n",
       "        vertical-align: middle;\n",
       "    }\n",
       "\n",
       "    .dataframe tbody tr th {\n",
       "        vertical-align: top;\n",
       "    }\n",
       "\n",
       "    .dataframe thead th {\n",
       "        text-align: right;\n",
       "    }\n",
       "</style>\n",
       "<table border=\"1\" class=\"dataframe\">\n",
       "  <thead>\n",
       "    <tr style=\"text-align: right;\">\n",
       "      <th></th>\n",
       "      <th>InvoiceNo</th>\n",
       "      <th>StockCode</th>\n",
       "      <th>Description</th>\n",
       "      <th>Quantity</th>\n",
       "      <th>InvoiceDate</th>\n",
       "      <th>UnitPrice</th>\n",
       "      <th>CustomerID</th>\n",
       "      <th>Revenue</th>\n",
       "    </tr>\n",
       "  </thead>\n",
       "  <tbody>\n",
       "    <tr>\n",
       "      <th>303998</th>\n",
       "      <td>563557</td>\n",
       "      <td>22670</td>\n",
       "      <td>FRENCH WC SIGN BLUE METAL</td>\n",
       "      <td>12</td>\n",
       "      <td>2019-08-15 13:33:00</td>\n",
       "      <td>1.25</td>\n",
       "      <td>15786</td>\n",
       "      <td>15.00</td>\n",
       "    </tr>\n",
       "    <tr>\n",
       "      <th>492173</th>\n",
       "      <td>578093</td>\n",
       "      <td>22776</td>\n",
       "      <td>SWEETHEART 3 TIER CAKE STAND</td>\n",
       "      <td>1</td>\n",
       "      <td>2019-11-20 17:21:00</td>\n",
       "      <td>9.95</td>\n",
       "      <td>14911</td>\n",
       "      <td>9.95</td>\n",
       "    </tr>\n",
       "    <tr>\n",
       "      <th>17169</th>\n",
       "      <td>537688</td>\n",
       "      <td>21326</td>\n",
       "      <td>AGED GLASS SILVER T-LIGHT HOLDER</td>\n",
       "      <td>24</td>\n",
       "      <td>2018-12-06 10:35:00</td>\n",
       "      <td>0.65</td>\n",
       "      <td>17406</td>\n",
       "      <td>15.60</td>\n",
       "    </tr>\n",
       "    <tr>\n",
       "      <th>270270</th>\n",
       "      <td>560555</td>\n",
       "      <td>20984</td>\n",
       "      <td>12 PENCILS TALL TUBE POSY</td>\n",
       "      <td>2</td>\n",
       "      <td>2019-07-17 13:01:00</td>\n",
       "      <td>0.29</td>\n",
       "      <td>14178</td>\n",
       "      <td>0.58</td>\n",
       "    </tr>\n",
       "    <tr>\n",
       "      <th>294688</th>\n",
       "      <td>562717</td>\n",
       "      <td>22382</td>\n",
       "      <td>LUNCH BAG SPACEBOY DESIGN</td>\n",
       "      <td>1</td>\n",
       "      <td>2019-08-06 15:42:00</td>\n",
       "      <td>4.13</td>\n",
       "      <td>0</td>\n",
       "      <td>4.13</td>\n",
       "    </tr>\n",
       "    <tr>\n",
       "      <th>227699</th>\n",
       "      <td>556903</td>\n",
       "      <td>21621</td>\n",
       "      <td>VINTAGE UNION JACK BUNTING</td>\n",
       "      <td>2</td>\n",
       "      <td>2019-06-13 12:55:00</td>\n",
       "      <td>8.50</td>\n",
       "      <td>14527</td>\n",
       "      <td>17.00</td>\n",
       "    </tr>\n",
       "    <tr>\n",
       "      <th>329889</th>\n",
       "      <td>565857</td>\n",
       "      <td>23061</td>\n",
       "      <td>VINTAGE EMBOSSED HEART</td>\n",
       "      <td>12</td>\n",
       "      <td>2019-09-05 14:13:00</td>\n",
       "      <td>1.25</td>\n",
       "      <td>14911</td>\n",
       "      <td>15.00</td>\n",
       "    </tr>\n",
       "    <tr>\n",
       "      <th>109208</th>\n",
       "      <td>545588</td>\n",
       "      <td>21668</td>\n",
       "      <td>RED STRIPE CERAMIC DRAWER KNOB</td>\n",
       "      <td>12</td>\n",
       "      <td>2019-03-02 10:03:00</td>\n",
       "      <td>1.25</td>\n",
       "      <td>13382</td>\n",
       "      <td>15.00</td>\n",
       "    </tr>\n",
       "    <tr>\n",
       "      <th>133911</th>\n",
       "      <td>547805</td>\n",
       "      <td>82583</td>\n",
       "      <td>HOT BATHS METAL SIGN</td>\n",
       "      <td>12</td>\n",
       "      <td>2019-03-23 13:35:00</td>\n",
       "      <td>2.10</td>\n",
       "      <td>13327</td>\n",
       "      <td>25.20</td>\n",
       "    </tr>\n",
       "    <tr>\n",
       "      <th>216731</th>\n",
       "      <td>555853</td>\n",
       "      <td>37489B</td>\n",
       "      <td>BLUE/YELLOW FLOWER DESIGN BIG MUG</td>\n",
       "      <td>1</td>\n",
       "      <td>2019-06-05 13:44:00</td>\n",
       "      <td>0.39</td>\n",
       "      <td>14375</td>\n",
       "      <td>0.39</td>\n",
       "    </tr>\n",
       "    <tr>\n",
       "      <th>133281</th>\n",
       "      <td>547772</td>\n",
       "      <td>21888</td>\n",
       "      <td>BINGO SET</td>\n",
       "      <td>3</td>\n",
       "      <td>2019-03-23 11:34:00</td>\n",
       "      <td>3.75</td>\n",
       "      <td>17979</td>\n",
       "      <td>11.25</td>\n",
       "    </tr>\n",
       "    <tr>\n",
       "      <th>80346</th>\n",
       "      <td>C543039</td>\n",
       "      <td>22768</td>\n",
       "      <td>FAMILY PHOTO FRAME CORNICE</td>\n",
       "      <td>-1</td>\n",
       "      <td>2019-01-31 16:31:00</td>\n",
       "      <td>9.95</td>\n",
       "      <td>16992</td>\n",
       "      <td>-9.95</td>\n",
       "    </tr>\n",
       "    <tr>\n",
       "      <th>111139</th>\n",
       "      <td>545713</td>\n",
       "      <td>22943</td>\n",
       "      <td>CHRISTMAS LIGHTS 10 VINTAGE BAUBLES</td>\n",
       "      <td>1</td>\n",
       "      <td>2019-03-05 10:12:00</td>\n",
       "      <td>10.79</td>\n",
       "      <td>0</td>\n",
       "      <td>10.79</td>\n",
       "    </tr>\n",
       "    <tr>\n",
       "      <th>415129</th>\n",
       "      <td>572517</td>\n",
       "      <td>22562</td>\n",
       "      <td>MONSTERS STENCIL CRAFT</td>\n",
       "      <td>2</td>\n",
       "      <td>2019-10-22 14:47:00</td>\n",
       "      <td>1.25</td>\n",
       "      <td>15068</td>\n",
       "      <td>2.50</td>\n",
       "    </tr>\n",
       "    <tr>\n",
       "      <th>21168</th>\n",
       "      <td>538071</td>\n",
       "      <td>22968</td>\n",
       "      <td>ROSE COTTAGE KEEPSAKE BOX</td>\n",
       "      <td>1</td>\n",
       "      <td>2018-12-07 14:09:00</td>\n",
       "      <td>20.38</td>\n",
       "      <td>0</td>\n",
       "      <td>20.38</td>\n",
       "    </tr>\n",
       "    <tr>\n",
       "      <th>534000</th>\n",
       "      <td>581126</td>\n",
       "      <td>22966</td>\n",
       "      <td>GINGERBREAD MAN COOKIE CUTTER</td>\n",
       "      <td>12</td>\n",
       "      <td>2019-12-05 12:43:00</td>\n",
       "      <td>1.25</td>\n",
       "      <td>18272</td>\n",
       "      <td>15.00</td>\n",
       "    </tr>\n",
       "    <tr>\n",
       "      <th>302428</th>\n",
       "      <td>563430</td>\n",
       "      <td>21114</td>\n",
       "      <td>LAVENDER SCENTED FABRIC HEART</td>\n",
       "      <td>10</td>\n",
       "      <td>2019-08-14 11:50:00</td>\n",
       "      <td>1.25</td>\n",
       "      <td>14918</td>\n",
       "      <td>12.50</td>\n",
       "    </tr>\n",
       "    <tr>\n",
       "      <th>190469</th>\n",
       "      <td>553194</td>\n",
       "      <td>22991</td>\n",
       "      <td>GIRAFFE WOODEN RULER</td>\n",
       "      <td>3</td>\n",
       "      <td>2019-05-13 13:37:00</td>\n",
       "      <td>1.95</td>\n",
       "      <td>16283</td>\n",
       "      <td>5.85</td>\n",
       "    </tr>\n",
       "    <tr>\n",
       "      <th>35965</th>\n",
       "      <td>539437</td>\n",
       "      <td>22743</td>\n",
       "      <td>MAKE YOUR OWN FLOWERPOWER CARD KIT</td>\n",
       "      <td>1</td>\n",
       "      <td>2018-12-15 14:54:00</td>\n",
       "      <td>5.91</td>\n",
       "      <td>0</td>\n",
       "      <td>5.91</td>\n",
       "    </tr>\n",
       "    <tr>\n",
       "      <th>162522</th>\n",
       "      <td>550503</td>\n",
       "      <td>22760</td>\n",
       "      <td>TRAY, BREAKFAST IN BED</td>\n",
       "      <td>1</td>\n",
       "      <td>2019-04-16 15:31:00</td>\n",
       "      <td>12.75</td>\n",
       "      <td>15508</td>\n",
       "      <td>12.75</td>\n",
       "    </tr>\n",
       "  </tbody>\n",
       "</table>\n",
       "</div>"
      ],
      "text/plain": [
       "       InvoiceNo StockCode                          Description  Quantity  \\\n",
       "303998    563557     22670            FRENCH WC SIGN BLUE METAL        12   \n",
       "492173    578093     22776        SWEETHEART 3 TIER CAKE STAND          1   \n",
       "17169     537688     21326     AGED GLASS SILVER T-LIGHT HOLDER        24   \n",
       "270270    560555     20984            12 PENCILS TALL TUBE POSY         2   \n",
       "294688    562717     22382           LUNCH BAG SPACEBOY DESIGN          1   \n",
       "227699    556903     21621           VINTAGE UNION JACK BUNTING         2   \n",
       "329889    565857     23061               VINTAGE EMBOSSED HEART        12   \n",
       "109208    545588     21668       RED STRIPE CERAMIC DRAWER KNOB        12   \n",
       "133911    547805     82583                 HOT BATHS METAL SIGN        12   \n",
       "216731    555853    37489B    BLUE/YELLOW FLOWER DESIGN BIG MUG         1   \n",
       "133281    547772     21888                            BINGO SET         3   \n",
       "80346    C543039     22768           FAMILY PHOTO FRAME CORNICE        -1   \n",
       "111139    545713     22943  CHRISTMAS LIGHTS 10 VINTAGE BAUBLES         1   \n",
       "415129    572517     22562               MONSTERS STENCIL CRAFT         2   \n",
       "21168     538071     22968           ROSE COTTAGE KEEPSAKE BOX          1   \n",
       "534000    581126     22966        GINGERBREAD MAN COOKIE CUTTER        12   \n",
       "302428    563430     21114        LAVENDER SCENTED FABRIC HEART        10   \n",
       "190469    553194     22991                 GIRAFFE WOODEN RULER         3   \n",
       "35965     539437     22743   MAKE YOUR OWN FLOWERPOWER CARD KIT         1   \n",
       "162522    550503     22760               TRAY, BREAKFAST IN BED         1   \n",
       "\n",
       "               InvoiceDate  UnitPrice  CustomerID  Revenue  \n",
       "303998 2019-08-15 13:33:00       1.25       15786    15.00  \n",
       "492173 2019-11-20 17:21:00       9.95       14911     9.95  \n",
       "17169  2018-12-06 10:35:00       0.65       17406    15.60  \n",
       "270270 2019-07-17 13:01:00       0.29       14178     0.58  \n",
       "294688 2019-08-06 15:42:00       4.13           0     4.13  \n",
       "227699 2019-06-13 12:55:00       8.50       14527    17.00  \n",
       "329889 2019-09-05 14:13:00       1.25       14911    15.00  \n",
       "109208 2019-03-02 10:03:00       1.25       13382    15.00  \n",
       "133911 2019-03-23 13:35:00       2.10       13327    25.20  \n",
       "216731 2019-06-05 13:44:00       0.39       14375     0.39  \n",
       "133281 2019-03-23 11:34:00       3.75       17979    11.25  \n",
       "80346  2019-01-31 16:31:00       9.95       16992    -9.95  \n",
       "111139 2019-03-05 10:12:00      10.79           0    10.79  \n",
       "415129 2019-10-22 14:47:00       1.25       15068     2.50  \n",
       "21168  2018-12-07 14:09:00      20.38           0    20.38  \n",
       "534000 2019-12-05 12:43:00       1.25       18272    15.00  \n",
       "302428 2019-08-14 11:50:00       1.25       14918    12.50  \n",
       "190469 2019-05-13 13:37:00       1.95       16283     5.85  \n",
       "35965  2018-12-15 14:54:00       5.91           0     5.91  \n",
       "162522 2019-04-16 15:31:00      12.75       15508    12.75  "
      ]
     },
     "execution_count": 38,
     "metadata": {},
     "output_type": "execute_result"
    }
   ],
   "source": [
    "dfc.sample(20)"
   ]
  },
  {
   "cell_type": "markdown",
   "id": "b637d6ad",
   "metadata": {},
   "source": [
    "## Save Cleaned Data Frame"
   ]
  },
  {
   "cell_type": "code",
   "execution_count": 39,
   "id": "93c9f7e1",
   "metadata": {},
   "outputs": [],
   "source": [
    "dfc.to_csv('ecommerce_dataset_us_clean.csv', sep='\\t')"
   ]
  },
  {
   "cell_type": "code",
   "execution_count": 40,
   "id": "798c9866",
   "metadata": {},
   "outputs": [
    {
     "data": {
      "text/html": [
       "<div>\n",
       "<style scoped>\n",
       "    .dataframe tbody tr th:only-of-type {\n",
       "        vertical-align: middle;\n",
       "    }\n",
       "\n",
       "    .dataframe tbody tr th {\n",
       "        vertical-align: top;\n",
       "    }\n",
       "\n",
       "    .dataframe thead th {\n",
       "        text-align: right;\n",
       "    }\n",
       "</style>\n",
       "<table border=\"1\" class=\"dataframe\">\n",
       "  <thead>\n",
       "    <tr style=\"text-align: right;\">\n",
       "      <th></th>\n",
       "      <th>InvoiceNo</th>\n",
       "      <th>StockCode</th>\n",
       "      <th>Description</th>\n",
       "      <th>Quantity</th>\n",
       "      <th>InvoiceDate</th>\n",
       "      <th>UnitPrice</th>\n",
       "      <th>CustomerID</th>\n",
       "      <th>Revenue</th>\n",
       "    </tr>\n",
       "  </thead>\n",
       "  <tbody>\n",
       "    <tr>\n",
       "      <th>540421</th>\n",
       "      <td>581483</td>\n",
       "      <td>23843</td>\n",
       "      <td>PAPER CRAFT , LITTLE BIRDIE</td>\n",
       "      <td>80995</td>\n",
       "      <td>2019-12-07 09:15:00</td>\n",
       "      <td>2.08</td>\n",
       "      <td>16446</td>\n",
       "      <td>168469.6</td>\n",
       "    </tr>\n",
       "  </tbody>\n",
       "</table>\n",
       "</div>"
      ],
      "text/plain": [
       "       InvoiceNo StockCode                  Description  Quantity  \\\n",
       "540421    581483     23843  PAPER CRAFT , LITTLE BIRDIE     80995   \n",
       "\n",
       "               InvoiceDate  UnitPrice  CustomerID   Revenue  \n",
       "540421 2019-12-07 09:15:00       2.08       16446  168469.6  "
      ]
     },
     "execution_count": 40,
     "metadata": {},
     "output_type": "execute_result"
    }
   ],
   "source": [
    "dfc[dfc['Revenue'] == dfc['Revenue'].max()]"
   ]
  },
  {
   "cell_type": "code",
   "execution_count": 41,
   "id": "ccd40f92",
   "metadata": {},
   "outputs": [
    {
     "data": {
      "text/html": [
       "<div>\n",
       "<style scoped>\n",
       "    .dataframe tbody tr th:only-of-type {\n",
       "        vertical-align: middle;\n",
       "    }\n",
       "\n",
       "    .dataframe tbody tr th {\n",
       "        vertical-align: top;\n",
       "    }\n",
       "\n",
       "    .dataframe thead th {\n",
       "        text-align: right;\n",
       "    }\n",
       "</style>\n",
       "<table border=\"1\" class=\"dataframe\">\n",
       "  <thead>\n",
       "    <tr style=\"text-align: right;\">\n",
       "      <th></th>\n",
       "      <th>InvoiceNo</th>\n",
       "      <th>StockCode</th>\n",
       "      <th>Description</th>\n",
       "      <th>Quantity</th>\n",
       "      <th>InvoiceDate</th>\n",
       "      <th>UnitPrice</th>\n",
       "      <th>CustomerID</th>\n",
       "      <th>Revenue</th>\n",
       "    </tr>\n",
       "  </thead>\n",
       "  <tbody>\n",
       "    <tr>\n",
       "      <th>540422</th>\n",
       "      <td>C581484</td>\n",
       "      <td>23843</td>\n",
       "      <td>PAPER CRAFT , LITTLE BIRDIE</td>\n",
       "      <td>-80995</td>\n",
       "      <td>2019-12-07 09:27:00</td>\n",
       "      <td>2.08</td>\n",
       "      <td>16446</td>\n",
       "      <td>-168469.6</td>\n",
       "    </tr>\n",
       "  </tbody>\n",
       "</table>\n",
       "</div>"
      ],
      "text/plain": [
       "       InvoiceNo StockCode                  Description  Quantity  \\\n",
       "540422   C581484     23843  PAPER CRAFT , LITTLE BIRDIE    -80995   \n",
       "\n",
       "               InvoiceDate  UnitPrice  CustomerID   Revenue  \n",
       "540422 2019-12-07 09:27:00       2.08       16446 -168469.6  "
      ]
     },
     "execution_count": 41,
     "metadata": {},
     "output_type": "execute_result"
    }
   ],
   "source": [
    "dfc[dfc['Revenue'] == dfc['Revenue'].min()]"
   ]
  },
  {
   "cell_type": "code",
   "execution_count": 42,
   "id": "2fe68cb9",
   "metadata": {},
   "outputs": [],
   "source": [
    "dfc_cancel = dfc[dfc['InvoiceNo'].str.startswith('C')]"
   ]
  },
  {
   "cell_type": "code",
   "execution_count": 43,
   "id": "f47af1ee",
   "metadata": {},
   "outputs": [
    {
     "data": {
      "text/html": [
       "<div>\n",
       "<style scoped>\n",
       "    .dataframe tbody tr th:only-of-type {\n",
       "        vertical-align: middle;\n",
       "    }\n",
       "\n",
       "    .dataframe tbody tr th {\n",
       "        vertical-align: top;\n",
       "    }\n",
       "\n",
       "    .dataframe thead th {\n",
       "        text-align: right;\n",
       "    }\n",
       "</style>\n",
       "<table border=\"1\" class=\"dataframe\">\n",
       "  <thead>\n",
       "    <tr style=\"text-align: right;\">\n",
       "      <th></th>\n",
       "      <th>Quantity</th>\n",
       "      <th>UnitPrice</th>\n",
       "      <th>CustomerID</th>\n",
       "      <th>Revenue</th>\n",
       "    </tr>\n",
       "  </thead>\n",
       "  <tbody>\n",
       "    <tr>\n",
       "      <th>count</th>\n",
       "      <td>9088.000000</td>\n",
       "      <td>9088.000000</td>\n",
       "      <td>9088.000000</td>\n",
       "      <td>9088.000000</td>\n",
       "    </tr>\n",
       "    <tr>\n",
       "      <th>mean</th>\n",
       "      <td>-30.518596</td>\n",
       "      <td>20.634367</td>\n",
       "      <td>14509.761224</td>\n",
       "      <td>-69.804390</td>\n",
       "    </tr>\n",
       "    <tr>\n",
       "      <th>std</th>\n",
       "      <td>1158.319372</td>\n",
       "      <td>435.409402</td>\n",
       "      <td>3146.030812</td>\n",
       "      <td>1997.730756</td>\n",
       "    </tr>\n",
       "    <tr>\n",
       "      <th>min</th>\n",
       "      <td>-80995.000000</td>\n",
       "      <td>0.010000</td>\n",
       "      <td>0.000000</td>\n",
       "      <td>-168469.600000</td>\n",
       "    </tr>\n",
       "    <tr>\n",
       "      <th>25%</th>\n",
       "      <td>-6.000000</td>\n",
       "      <td>1.450000</td>\n",
       "      <td>13319.000000</td>\n",
       "      <td>-17.000000</td>\n",
       "    </tr>\n",
       "    <tr>\n",
       "      <th>50%</th>\n",
       "      <td>-2.000000</td>\n",
       "      <td>2.950000</td>\n",
       "      <td>14767.000000</td>\n",
       "      <td>-8.500000</td>\n",
       "    </tr>\n",
       "    <tr>\n",
       "      <th>75%</th>\n",
       "      <td>-1.000000</td>\n",
       "      <td>4.950000</td>\n",
       "      <td>16321.000000</td>\n",
       "      <td>-3.400000</td>\n",
       "    </tr>\n",
       "    <tr>\n",
       "      <th>max</th>\n",
       "      <td>-1.000000</td>\n",
       "      <td>38970.000000</td>\n",
       "      <td>18282.000000</td>\n",
       "      <td>-0.120000</td>\n",
       "    </tr>\n",
       "  </tbody>\n",
       "</table>\n",
       "</div>"
      ],
      "text/plain": [
       "           Quantity     UnitPrice    CustomerID        Revenue\n",
       "count   9088.000000   9088.000000   9088.000000    9088.000000\n",
       "mean     -30.518596     20.634367  14509.761224     -69.804390\n",
       "std     1158.319372    435.409402   3146.030812    1997.730756\n",
       "min   -80995.000000      0.010000      0.000000 -168469.600000\n",
       "25%       -6.000000      1.450000  13319.000000     -17.000000\n",
       "50%       -2.000000      2.950000  14767.000000      -8.500000\n",
       "75%       -1.000000      4.950000  16321.000000      -3.400000\n",
       "max       -1.000000  38970.000000  18282.000000      -0.120000"
      ]
     },
     "execution_count": 43,
     "metadata": {},
     "output_type": "execute_result"
    }
   ],
   "source": [
    "dfc_cancel.describe()"
   ]
  },
  {
   "cell_type": "code",
   "execution_count": 44,
   "id": "040f21ca",
   "metadata": {},
   "outputs": [
    {
     "data": {
      "text/html": [
       "<div>\n",
       "<style scoped>\n",
       "    .dataframe tbody tr th:only-of-type {\n",
       "        vertical-align: middle;\n",
       "    }\n",
       "\n",
       "    .dataframe tbody tr th {\n",
       "        vertical-align: top;\n",
       "    }\n",
       "\n",
       "    .dataframe thead th {\n",
       "        text-align: right;\n",
       "    }\n",
       "</style>\n",
       "<table border=\"1\" class=\"dataframe\">\n",
       "  <thead>\n",
       "    <tr style=\"text-align: right;\">\n",
       "      <th></th>\n",
       "      <th>InvoiceNo</th>\n",
       "      <th>StockCode</th>\n",
       "      <th>Description</th>\n",
       "      <th>Quantity</th>\n",
       "      <th>InvoiceDate</th>\n",
       "      <th>UnitPrice</th>\n",
       "      <th>CustomerID</th>\n",
       "      <th>Revenue</th>\n",
       "    </tr>\n",
       "  </thead>\n",
       "  <tbody>\n",
       "    <tr>\n",
       "      <th>0</th>\n",
       "      <td>536365</td>\n",
       "      <td>85123A</td>\n",
       "      <td>WHITE HANGING HEART T-LIGHT HOLDER</td>\n",
       "      <td>6</td>\n",
       "      <td>2018-11-29 08:26:00</td>\n",
       "      <td>2.55</td>\n",
       "      <td>17850</td>\n",
       "      <td>15.30</td>\n",
       "    </tr>\n",
       "    <tr>\n",
       "      <th>1</th>\n",
       "      <td>536365</td>\n",
       "      <td>71053</td>\n",
       "      <td>WHITE METAL LANTERN</td>\n",
       "      <td>6</td>\n",
       "      <td>2018-11-29 08:26:00</td>\n",
       "      <td>3.39</td>\n",
       "      <td>17850</td>\n",
       "      <td>20.34</td>\n",
       "    </tr>\n",
       "    <tr>\n",
       "      <th>2</th>\n",
       "      <td>536365</td>\n",
       "      <td>84406B</td>\n",
       "      <td>CREAM CUPID HEARTS COAT HANGER</td>\n",
       "      <td>8</td>\n",
       "      <td>2018-11-29 08:26:00</td>\n",
       "      <td>2.75</td>\n",
       "      <td>17850</td>\n",
       "      <td>22.00</td>\n",
       "    </tr>\n",
       "    <tr>\n",
       "      <th>3</th>\n",
       "      <td>536365</td>\n",
       "      <td>84029G</td>\n",
       "      <td>KNITTED UNION FLAG HOT WATER BOTTLE</td>\n",
       "      <td>6</td>\n",
       "      <td>2018-11-29 08:26:00</td>\n",
       "      <td>3.39</td>\n",
       "      <td>17850</td>\n",
       "      <td>20.34</td>\n",
       "    </tr>\n",
       "    <tr>\n",
       "      <th>4</th>\n",
       "      <td>536365</td>\n",
       "      <td>84029E</td>\n",
       "      <td>RED WOOLLY HOTTIE WHITE HEART.</td>\n",
       "      <td>6</td>\n",
       "      <td>2018-11-29 08:26:00</td>\n",
       "      <td>3.39</td>\n",
       "      <td>17850</td>\n",
       "      <td>20.34</td>\n",
       "    </tr>\n",
       "    <tr>\n",
       "      <th>5</th>\n",
       "      <td>536365</td>\n",
       "      <td>22752</td>\n",
       "      <td>SET 7 BABUSHKA NESTING BOXES</td>\n",
       "      <td>2</td>\n",
       "      <td>2018-11-29 08:26:00</td>\n",
       "      <td>7.65</td>\n",
       "      <td>17850</td>\n",
       "      <td>15.30</td>\n",
       "    </tr>\n",
       "    <tr>\n",
       "      <th>6</th>\n",
       "      <td>536365</td>\n",
       "      <td>21730</td>\n",
       "      <td>GLASS STAR FROSTED T-LIGHT HOLDER</td>\n",
       "      <td>6</td>\n",
       "      <td>2018-11-29 08:26:00</td>\n",
       "      <td>4.25</td>\n",
       "      <td>17850</td>\n",
       "      <td>25.50</td>\n",
       "    </tr>\n",
       "  </tbody>\n",
       "</table>\n",
       "</div>"
      ],
      "text/plain": [
       "  InvoiceNo StockCode                          Description  Quantity  \\\n",
       "0    536365    85123A   WHITE HANGING HEART T-LIGHT HOLDER         6   \n",
       "1    536365     71053                  WHITE METAL LANTERN         6   \n",
       "2    536365    84406B       CREAM CUPID HEARTS COAT HANGER         8   \n",
       "3    536365    84029G  KNITTED UNION FLAG HOT WATER BOTTLE         6   \n",
       "4    536365    84029E       RED WOOLLY HOTTIE WHITE HEART.         6   \n",
       "5    536365     22752         SET 7 BABUSHKA NESTING BOXES         2   \n",
       "6    536365     21730    GLASS STAR FROSTED T-LIGHT HOLDER         6   \n",
       "\n",
       "          InvoiceDate  UnitPrice  CustomerID  Revenue  \n",
       "0 2018-11-29 08:26:00       2.55       17850    15.30  \n",
       "1 2018-11-29 08:26:00       3.39       17850    20.34  \n",
       "2 2018-11-29 08:26:00       2.75       17850    22.00  \n",
       "3 2018-11-29 08:26:00       3.39       17850    20.34  \n",
       "4 2018-11-29 08:26:00       3.39       17850    20.34  \n",
       "5 2018-11-29 08:26:00       7.65       17850    15.30  \n",
       "6 2018-11-29 08:26:00       4.25       17850    25.50  "
      ]
     },
     "execution_count": 44,
     "metadata": {},
     "output_type": "execute_result"
    }
   ],
   "source": [
    "dfc[dfc['InvoiceNo'] == '536365']"
   ]
  },
  {
   "cell_type": "code",
   "execution_count": 45,
   "id": "591f675e",
   "metadata": {},
   "outputs": [],
   "source": [
    "# group by InvoiceNo - count Article in Invoice\n",
    "df_invoice = dfc.groupby(['InvoiceNo']).agg({'Revenue': 'sum', 'CustomerID': 'count'})\n",
    "# rename columns\n",
    "df_invoice.rename(columns={'CustomerID': 'Article count'}, inplace=True)"
   ]
  },
  {
   "cell_type": "code",
   "execution_count": 46,
   "id": "0962a255",
   "metadata": {},
   "outputs": [
    {
     "data": {
      "text/html": [
       "<div>\n",
       "<style scoped>\n",
       "    .dataframe tbody tr th:only-of-type {\n",
       "        vertical-align: middle;\n",
       "    }\n",
       "\n",
       "    .dataframe tbody tr th {\n",
       "        vertical-align: top;\n",
       "    }\n",
       "\n",
       "    .dataframe thead th {\n",
       "        text-align: right;\n",
       "    }\n",
       "</style>\n",
       "<table border=\"1\" class=\"dataframe\">\n",
       "  <thead>\n",
       "    <tr style=\"text-align: right;\">\n",
       "      <th></th>\n",
       "      <th>Revenue</th>\n",
       "      <th>Article count</th>\n",
       "    </tr>\n",
       "    <tr>\n",
       "      <th>InvoiceNo</th>\n",
       "      <th></th>\n",
       "      <th></th>\n",
       "    </tr>\n",
       "  </thead>\n",
       "  <tbody>\n",
       "    <tr>\n",
       "      <th>536365</th>\n",
       "      <td>139.12</td>\n",
       "      <td>7</td>\n",
       "    </tr>\n",
       "    <tr>\n",
       "      <th>536366</th>\n",
       "      <td>22.20</td>\n",
       "      <td>2</td>\n",
       "    </tr>\n",
       "    <tr>\n",
       "      <th>536367</th>\n",
       "      <td>278.73</td>\n",
       "      <td>12</td>\n",
       "    </tr>\n",
       "    <tr>\n",
       "      <th>536368</th>\n",
       "      <td>70.05</td>\n",
       "      <td>4</td>\n",
       "    </tr>\n",
       "    <tr>\n",
       "      <th>536369</th>\n",
       "      <td>17.85</td>\n",
       "      <td>1</td>\n",
       "    </tr>\n",
       "  </tbody>\n",
       "</table>\n",
       "</div>"
      ],
      "text/plain": [
       "           Revenue  Article count\n",
       "InvoiceNo                        \n",
       "536365      139.12              7\n",
       "536366       22.20              2\n",
       "536367      278.73             12\n",
       "536368       70.05              4\n",
       "536369       17.85              1"
      ]
     },
     "execution_count": 46,
     "metadata": {},
     "output_type": "execute_result"
    }
   ],
   "source": [
    "df_invoice.head()"
   ]
  },
  {
   "cell_type": "code",
   "execution_count": 50,
   "id": "35628d44",
   "metadata": {},
   "outputs": [
    {
     "data": {
      "text/html": [
       "<div>\n",
       "<style scoped>\n",
       "    .dataframe tbody tr th:only-of-type {\n",
       "        vertical-align: middle;\n",
       "    }\n",
       "\n",
       "    .dataframe tbody tr th {\n",
       "        vertical-align: top;\n",
       "    }\n",
       "\n",
       "    .dataframe thead th {\n",
       "        text-align: right;\n",
       "    }\n",
       "</style>\n",
       "<table border=\"1\" class=\"dataframe\">\n",
       "  <thead>\n",
       "    <tr style=\"text-align: right;\">\n",
       "      <th></th>\n",
       "      <th>InvoiceNo</th>\n",
       "      <th>StockCode</th>\n",
       "      <th>Description</th>\n",
       "      <th>Quantity</th>\n",
       "      <th>InvoiceDate</th>\n",
       "      <th>UnitPrice</th>\n",
       "      <th>CustomerID</th>\n",
       "      <th>Revenue</th>\n",
       "    </tr>\n",
       "  </thead>\n",
       "  <tbody>\n",
       "    <tr>\n",
       "      <th>21</th>\n",
       "      <td>536368</td>\n",
       "      <td>22960</td>\n",
       "      <td>JAM MAKING SET WITH JARS</td>\n",
       "      <td>6</td>\n",
       "      <td>2018-11-29 08:34:00</td>\n",
       "      <td>4.25</td>\n",
       "      <td>13047</td>\n",
       "      <td>25.50</td>\n",
       "    </tr>\n",
       "    <tr>\n",
       "      <th>22</th>\n",
       "      <td>536368</td>\n",
       "      <td>22913</td>\n",
       "      <td>RED COAT RACK PARIS FASHION</td>\n",
       "      <td>3</td>\n",
       "      <td>2018-11-29 08:34:00</td>\n",
       "      <td>4.95</td>\n",
       "      <td>13047</td>\n",
       "      <td>14.85</td>\n",
       "    </tr>\n",
       "    <tr>\n",
       "      <th>23</th>\n",
       "      <td>536368</td>\n",
       "      <td>22912</td>\n",
       "      <td>YELLOW COAT RACK PARIS FASHION</td>\n",
       "      <td>3</td>\n",
       "      <td>2018-11-29 08:34:00</td>\n",
       "      <td>4.95</td>\n",
       "      <td>13047</td>\n",
       "      <td>14.85</td>\n",
       "    </tr>\n",
       "    <tr>\n",
       "      <th>24</th>\n",
       "      <td>536368</td>\n",
       "      <td>22914</td>\n",
       "      <td>BLUE COAT RACK PARIS FASHION</td>\n",
       "      <td>3</td>\n",
       "      <td>2018-11-29 08:34:00</td>\n",
       "      <td>4.95</td>\n",
       "      <td>13047</td>\n",
       "      <td>14.85</td>\n",
       "    </tr>\n",
       "  </tbody>\n",
       "</table>\n",
       "</div>"
      ],
      "text/plain": [
       "   InvoiceNo StockCode                     Description  Quantity  \\\n",
       "21    536368     22960        JAM MAKING SET WITH JARS         6   \n",
       "22    536368     22913     RED COAT RACK PARIS FASHION         3   \n",
       "23    536368     22912  YELLOW COAT RACK PARIS FASHION         3   \n",
       "24    536368     22914    BLUE COAT RACK PARIS FASHION         3   \n",
       "\n",
       "           InvoiceDate  UnitPrice  CustomerID  Revenue  \n",
       "21 2018-11-29 08:34:00       4.25       13047    25.50  \n",
       "22 2018-11-29 08:34:00       4.95       13047    14.85  \n",
       "23 2018-11-29 08:34:00       4.95       13047    14.85  \n",
       "24 2018-11-29 08:34:00       4.95       13047    14.85  "
      ]
     },
     "execution_count": 50,
     "metadata": {},
     "output_type": "execute_result"
    }
   ],
   "source": [
    "dfc[dfc['InvoiceNo'] == '536368']"
   ]
  },
  {
   "cell_type": "code",
   "execution_count": 51,
   "id": "c0efb845",
   "metadata": {},
   "outputs": [
    {
     "data": {
      "text/plain": [
       "(0.0, 250.0)"
      ]
     },
     "execution_count": 51,
     "metadata": {},
     "output_type": "execute_result"
    },
    {
     "data": {
      "image/png": "[encoded data removed]",
      "text/plain": [
       "<Figure size 432x288 with 1 Axes>"
      ]
     },
     "metadata": {
      "needs_background": "light"
     },
     "output_type": "display_data"
    }
   ],
   "source": [
    "sns.histplot(df_invoice['Article count'], kde=True, linewidth=0)\n",
    "plt.xlim(0, 250)"
   ]
  },
  {
   "cell_type": "code",
   "execution_count": 52,
   "id": "5e322c7b",
   "metadata": {},
   "outputs": [
    {
     "data": {
      "text/html": [
       "<div>\n",
       "<style scoped>\n",
       "    .dataframe tbody tr th:only-of-type {\n",
       "        vertical-align: middle;\n",
       "    }\n",
       "\n",
       "    .dataframe tbody tr th {\n",
       "        vertical-align: top;\n",
       "    }\n",
       "\n",
       "    .dataframe thead th {\n",
       "        text-align: right;\n",
       "    }\n",
       "</style>\n",
       "<table border=\"1\" class=\"dataframe\">\n",
       "  <thead>\n",
       "    <tr style=\"text-align: right;\">\n",
       "      <th></th>\n",
       "      <th>Revenue</th>\n",
       "      <th>Article count</th>\n",
       "    </tr>\n",
       "  </thead>\n",
       "  <tbody>\n",
       "    <tr>\n",
       "      <th>count</th>\n",
       "      <td>24925.000000</td>\n",
       "      <td>24925.000000</td>\n",
       "    </tr>\n",
       "    <tr>\n",
       "      <th>mean</th>\n",
       "      <td>390.489117</td>\n",
       "      <td>21.626560</td>\n",
       "    </tr>\n",
       "    <tr>\n",
       "      <th>std</th>\n",
       "      <td>2007.098975</td>\n",
       "      <td>43.568572</td>\n",
       "    </tr>\n",
       "    <tr>\n",
       "      <th>min</th>\n",
       "      <td>-168469.600000</td>\n",
       "      <td>1.000000</td>\n",
       "    </tr>\n",
       "    <tr>\n",
       "      <th>25%</th>\n",
       "      <td>32.070000</td>\n",
       "      <td>2.000000</td>\n",
       "    </tr>\n",
       "    <tr>\n",
       "      <th>50%</th>\n",
       "      <td>218.940000</td>\n",
       "      <td>11.000000</td>\n",
       "    </tr>\n",
       "    <tr>\n",
       "      <th>75%</th>\n",
       "      <td>413.680000</td>\n",
       "      <td>24.000000</td>\n",
       "    </tr>\n",
       "    <tr>\n",
       "      <th>max</th>\n",
       "      <td>168469.600000</td>\n",
       "      <td>1112.000000</td>\n",
       "    </tr>\n",
       "  </tbody>\n",
       "</table>\n",
       "</div>"
      ],
      "text/plain": [
       "             Revenue  Article count\n",
       "count   24925.000000   24925.000000\n",
       "mean      390.489117      21.626560\n",
       "std      2007.098975      43.568572\n",
       "min   -168469.600000       1.000000\n",
       "25%        32.070000       2.000000\n",
       "50%       218.940000      11.000000\n",
       "75%       413.680000      24.000000\n",
       "max    168469.600000    1112.000000"
      ]
     },
     "execution_count": 52,
     "metadata": {},
     "output_type": "execute_result"
    }
   ],
   "source": [
    "df_invoice.describe()"
   ]
  },
  {
   "cell_type": "code",
   "execution_count": 53,
   "id": "b4d118b3",
   "metadata": {},
   "outputs": [],
   "source": [
    "# save df_invoice (invoice counts)\n",
    "df_invoice.to_csv('ecommerce_invoice_article_count.csv', sep='\\t')"
   ]
  },
  {
   "cell_type": "code",
   "execution_count": null,
   "id": "a3aa8936",
   "metadata": {},
   "outputs": [],
   "source": []
  },
  {
   "cell_type": "code",
   "execution_count": 148,
   "id": "1dc74f77",
   "metadata": {},
   "outputs": [],
   "source": [
    "# find article with 0 Revenue\n",
    "df_article_revenue = dfc.groupby(['StockCode']).agg({'Revenue': 'sum'})"
   ]
  },
  {
   "cell_type": "code",
   "execution_count": 149,
   "id": "0db09c21",
   "metadata": {},
   "outputs": [],
   "source": [
    "df_article_revenue_0 = df_article_revenue[df_article_revenue['Revenue'] == 0]"
   ]
  },
  {
   "cell_type": "code",
   "execution_count": 150,
   "id": "61492a3b",
   "metadata": {},
   "outputs": [
    {
     "name": "stdout",
     "output_type": "stream",
     "text": [
      "<class 'pandas.core.frame.DataFrame'>\n",
      "Index: 5 entries, 21655 to 79323B\n",
      "Data columns (total 1 columns):\n",
      " #   Column   Non-Null Count  Dtype  \n",
      "---  ------   --------------  -----  \n",
      " 0   Revenue  5 non-null      float64\n",
      "dtypes: float64(1)\n",
      "memory usage: 80.0+ bytes\n"
     ]
    }
   ],
   "source": [
    "df_article_revenue_0.info()"
   ]
  },
  {
   "cell_type": "code",
   "execution_count": 162,
   "id": "c757a0e5",
   "metadata": {},
   "outputs": [],
   "source": [
    "article_revenue_0 = df_article_revenue_0.index.tolist()"
   ]
  },
  {
   "cell_type": "code",
   "execution_count": 176,
   "id": "bc8a7044",
   "metadata": {},
   "outputs": [
    {
     "name": "stdout",
     "output_type": "stream",
     "text": [
      "There are 5 Article without any revenue: ['hanging ridge glass t-light holder', 'glass cake cover and plate', 'travel card wallet dotcomgiftshop', 'paper craft , little birdie', 'black cherry lights']\n"
     ]
    }
   ],
   "source": [
    "article_revenue_0_description = []\n",
    "for a in article_revenue_0:\n",
    "    article = dfc['Description'][dfc['StockCode'] == a].unique()\n",
    "    article_revenue_0_description.append(article[0])\n",
    "    \n",
    "print('There are', len(article_revenue_0_description), 'Article without any revenue:', article_revenue_0_description[:])"
   ]
  },
  {
   "cell_type": "markdown",
   "id": "21308a27",
   "metadata": {},
   "source": [
    "# Analyzing Products and Product Categorys\n",
    "\n",
    "- most and less frequent products\n",
    "- saisonality of most frequent products\n",
    "- **lemmatization and clustering of the product description to build categorys**\n",
    "- most and less frequent categorys\n",
    "- saisonality of most frequent categorys: weekday, month\n",
    "- Canceled Orders: most recent products/groups"
   ]
  },
  {
   "cell_type": "markdown",
   "id": "25d2e39f",
   "metadata": {},
   "source": [
    "### Categorizing Products - lemmatization and clustering of the product description to build categorys"
   ]
  },
  {
   "cell_type": "code",
   "execution_count": 54,
   "id": "41a41e4c",
   "metadata": {},
   "outputs": [],
   "source": [
    "import nltk\n",
    "from nltk.tokenize import word_tokenize\n",
    "from nltk.stem import WordNetLemmatizer\n",
    "from nltk.corpus import stopwords\n",
    "#nltk.download('stopwords')"
   ]
  },
  {
   "cell_type": "code",
   "execution_count": 55,
   "id": "732e422d",
   "metadata": {},
   "outputs": [],
   "source": [
    "# make Description lower case - so that it can be used for further processing\n",
    "dfc['Description'] = dfc['Description'].str.lower()"
   ]
  },
  {
   "cell_type": "code",
   "execution_count": 56,
   "id": "0ac72ba9",
   "metadata": {},
   "outputs": [],
   "source": [
    "# define stopwords\n",
    "st_words = stopwords.words('english')\n",
    "dfc['Description_nostop'] = dfc['Description'].apply(lambda x: ' '.join([word for word in x.split() if word not in (st_words)]))"
   ]
  },
  {
   "cell_type": "code",
   "execution_count": 57,
   "id": "df5773a9",
   "metadata": {},
   "outputs": [],
   "source": [
    "# lemmatizing 'Description'\n",
    "\n",
    "lemmatizer = WordNetLemmatizer()\n",
    "\n",
    "def lemmatizing(token):\n",
    "    words = []\n",
    "    for word in token:\n",
    "        word_lemmatized = lemmatizer.lemmatize(word)\n",
    "        words.append(word_lemmatized)\n",
    "    return words\n",
    "    \n",
    "dfc['Description_tokenized'] = dfc['Description_nostop'].apply(word_tokenize)\n",
    "dfc['Description_lemmatized'] = dfc['Description_tokenized'].apply(lambda x: lemmatizing(x))\n"
   ]
  },
  {
   "cell_type": "code",
   "execution_count": 58,
   "id": "3ed6f8f5",
   "metadata": {},
   "outputs": [
    {
     "data": {
      "text/html": [
       "<div>\n",
       "<style scoped>\n",
       "    .dataframe tbody tr th:only-of-type {\n",
       "        vertical-align: middle;\n",
       "    }\n",
       "\n",
       "    .dataframe tbody tr th {\n",
       "        vertical-align: top;\n",
       "    }\n",
       "\n",
       "    .dataframe thead th {\n",
       "        text-align: right;\n",
       "    }\n",
       "</style>\n",
       "<table border=\"1\" class=\"dataframe\">\n",
       "  <thead>\n",
       "    <tr style=\"text-align: right;\">\n",
       "      <th></th>\n",
       "      <th>InvoiceNo</th>\n",
       "      <th>StockCode</th>\n",
       "      <th>Description</th>\n",
       "      <th>Quantity</th>\n",
       "      <th>InvoiceDate</th>\n",
       "      <th>UnitPrice</th>\n",
       "      <th>CustomerID</th>\n",
       "      <th>Revenue</th>\n",
       "      <th>Description_nostop</th>\n",
       "      <th>Description_tokenized</th>\n",
       "      <th>Description_lemmatized</th>\n",
       "    </tr>\n",
       "  </thead>\n",
       "  <tbody>\n",
       "    <tr>\n",
       "      <th>206540</th>\n",
       "      <td>554942</td>\n",
       "      <td>21381</td>\n",
       "      <td>mini wooden happy birthday garland</td>\n",
       "      <td>2</td>\n",
       "      <td>2019-05-25 14:01:00</td>\n",
       "      <td>1.69</td>\n",
       "      <td>17841</td>\n",
       "      <td>3.38</td>\n",
       "      <td>mini wooden happy birthday garland</td>\n",
       "      <td>[mini, wooden, happy, birthday, garland]</td>\n",
       "      <td>[mini, wooden, happy, birthday, garland]</td>\n",
       "    </tr>\n",
       "    <tr>\n",
       "      <th>186957</th>\n",
       "      <td>552894</td>\n",
       "      <td>21944</td>\n",
       "      <td>kittens design flannel</td>\n",
       "      <td>1</td>\n",
       "      <td>2019-05-10 10:53:00</td>\n",
       "      <td>0.85</td>\n",
       "      <td>14606</td>\n",
       "      <td>0.85</td>\n",
       "      <td>kittens design flannel</td>\n",
       "      <td>[kittens, design, flannel]</td>\n",
       "      <td>[kitten, design, flannel]</td>\n",
       "    </tr>\n",
       "    <tr>\n",
       "      <th>278670</th>\n",
       "      <td>561217</td>\n",
       "      <td>23229</td>\n",
       "      <td>vintage donkey tail game</td>\n",
       "      <td>1</td>\n",
       "      <td>2019-07-23 17:09:00</td>\n",
       "      <td>7.46</td>\n",
       "      <td>0</td>\n",
       "      <td>7.46</td>\n",
       "      <td>vintage donkey tail game</td>\n",
       "      <td>[vintage, donkey, tail, game]</td>\n",
       "      <td>[vintage, donkey, tail, game]</td>\n",
       "    </tr>\n",
       "  </tbody>\n",
       "</table>\n",
       "</div>"
      ],
      "text/plain": [
       "       InvoiceNo StockCode                         Description  Quantity  \\\n",
       "206540    554942     21381  mini wooden happy birthday garland         2   \n",
       "186957    552894     21944              kittens design flannel         1   \n",
       "278670    561217     23229           vintage donkey tail game          1   \n",
       "\n",
       "               InvoiceDate  UnitPrice  CustomerID  Revenue  \\\n",
       "206540 2019-05-25 14:01:00       1.69       17841     3.38   \n",
       "186957 2019-05-10 10:53:00       0.85       14606     0.85   \n",
       "278670 2019-07-23 17:09:00       7.46           0     7.46   \n",
       "\n",
       "                        Description_nostop  \\\n",
       "206540  mini wooden happy birthday garland   \n",
       "186957              kittens design flannel   \n",
       "278670            vintage donkey tail game   \n",
       "\n",
       "                           Description_tokenized  \\\n",
       "206540  [mini, wooden, happy, birthday, garland]   \n",
       "186957                [kittens, design, flannel]   \n",
       "278670             [vintage, donkey, tail, game]   \n",
       "\n",
       "                          Description_lemmatized  \n",
       "206540  [mini, wooden, happy, birthday, garland]  \n",
       "186957                 [kitten, design, flannel]  \n",
       "278670             [vintage, donkey, tail, game]  "
      ]
     },
     "execution_count": 58,
     "metadata": {},
     "output_type": "execute_result"
    }
   ],
   "source": [
    "dfc.sample(3)"
   ]
  },
  {
   "cell_type": "code",
   "execution_count": 59,
   "id": "a6df7326",
   "metadata": {},
   "outputs": [
    {
     "data": {
      "text/plain": [
       "2"
      ]
     },
     "execution_count": 59,
     "metadata": {},
     "output_type": "execute_result"
    }
   ],
   "source": [
    "(dfc['Description_lemmatized'] == dfc['Description_tokenized']).nunique()"
   ]
  },
  {
   "cell_type": "markdown",
   "id": "5075dc60",
   "metadata": {},
   "source": [
    "#### Count most common words"
   ]
  },
  {
   "cell_type": "code",
   "execution_count": 60,
   "id": "082b374b",
   "metadata": {},
   "outputs": [],
   "source": [
    "from collections import Counter\n",
    "\n",
    "top_words_all = []\n",
    "top_words = []\n",
    "\n",
    "def word_from_list(lem_list):\n",
    "    for word in lem_list:\n",
    "        top_words_all.append(word)\n",
    "        \n",
    "dfc['Description_lemmatized'].apply(lambda x: word_from_list(x))\n",
    "\n",
    "# keep only words with more than 2 signs (delte single numbers, in ...)\n",
    "for t in top_words_all:\n",
    "    if len(t) > 2:\n",
    "        top_words.append(t)\n",
    "        \n",
    "    "
   ]
  },
  {
   "cell_type": "code",
   "execution_count": 61,
   "id": "84a94f55",
   "metadata": {},
   "outputs": [
    {
     "name": "stdout",
     "output_type": "stream",
     "text": [
      "2277145\n",
      "2151531\n"
     ]
    }
   ],
   "source": [
    "print(len(top_words_all))\n",
    "print(len(top_words))"
   ]
  },
  {
   "cell_type": "code",
   "execution_count": 62,
   "id": "752fc84c",
   "metadata": {
    "scrolled": false
   },
   "outputs": [
    {
     "data": {
      "text/plain": [
       "1962"
      ]
     },
     "execution_count": 62,
     "metadata": {},
     "output_type": "execute_result"
    }
   ],
   "source": [
    "#Counter(top_words).most_common(200)\n",
    "len(Counter(top_words).most_common())"
   ]
  },
  {
   "cell_type": "code",
   "execution_count": 63,
   "id": "6f17546a",
   "metadata": {},
   "outputs": [
    {
     "data": {
      "text/plain": [
       "[('set', 54662),\n",
       " ('bag', 52219),\n",
       " ('heart', 44265),\n",
       " ('red', 43427),\n",
       " ('retrospot', 35146),\n",
       " ('vintage', 33803),\n",
       " ('design', 30663),\n",
       " ('pink', 30112),\n",
       " ('box', 27767),\n",
       " ('christmas', 25200)]"
      ]
     },
     "execution_count": 63,
     "metadata": {},
     "output_type": "execute_result"
    }
   ],
   "source": [
    "Counter(top_words).most_common(10)"
   ]
  },
  {
   "cell_type": "markdown",
   "id": "51049779",
   "metadata": {},
   "source": [
    "### Clustering Categorys"
   ]
  },
  {
   "cell_type": "code",
   "execution_count": 64,
   "id": "1102d432",
   "metadata": {},
   "outputs": [],
   "source": [
    "#from sklearn.feature_extraction.text import TfidfVectorizer\n",
    "#from sklearn.cluster import KMeans"
   ]
  },
  {
   "cell_type": "code",
   "execution_count": 65,
   "id": "3b1b30fe",
   "metadata": {},
   "outputs": [],
   "source": [
    "#dfc['Description_vectorizing'] = dfc['Description_lemmatized'].apply(lambda x: ' '.join([word for word in x]))\n",
    "#\n",
    "#Vector = TfidfVectorizer()\n",
    "#X = Vector.fit_transform(dfc['Description_vectorizing'])\n",
    "#\n",
    "## Sum of squared distances\n",
    "#ssd = []\n",
    "#K = range(1, 10)\n",
    "#for k in K:\n",
    "#    km = KMeans(n_clusters = k)\n",
    "#    km = km.fit(X)\n",
    "#    ssd.append(km.inertia_)"
   ]
  },
  {
   "cell_type": "code",
   "execution_count": 66,
   "id": "a7f70879",
   "metadata": {},
   "outputs": [],
   "source": [
    "## Plot sum of squared distances to evaluate elbow method\n",
    "#plt.figure(figsize=(12, 8))\n",
    "#plt.plot(K, ssd, 'ro-')\n",
    "#plt.xlabel('k')\n",
    "#plt.ylabel('Sum of squared distances')\n",
    "#plt.title('Optimal k (elbow)')\n",
    "#plt.show()"
   ]
  },
  {
   "cell_type": "markdown",
   "id": "a030bcee",
   "metadata": {},
   "source": [
    "### here a picture of running the code above (very long runtime)"
   ]
  },
  {
   "cell_type": "markdown",
   "id": "054600cf",
   "metadata": {},
   "source": [
    "![Image](optimal_k_elbow.png)"
   ]
  },
  {
   "cell_type": "code",
   "execution_count": 68,
   "id": "82802032",
   "metadata": {},
   "outputs": [],
   "source": [
    "from wordcloud import WordCloud"
   ]
  },
  {
   "cell_type": "code",
   "execution_count": 69,
   "id": "fe2c8791",
   "metadata": {},
   "outputs": [],
   "source": [
    "## the optimal number of clusters = 3 or 6\n",
    "## Create and fit the model\n",
    "#\n",
    "#kmeans = KMeans(n_clusters = 6)\n",
    "#model = kmeans.fit(X)\n",
    "#\n",
    "#exp = model.labels_\n",
    "#dfc['Cluster'] = exp\n",
    "#\n",
    "#dfc_products = dfc[['Description', 'Description_nostop', 'Cluster' ]]\n",
    "#\n",
    "#fig = plt.figure(figsize = (22, 17))\n",
    "#for c in range(len(dfc['Cluster'].unique())):\n",
    "#    ax = fig.add_subplot(3,2,c+1)\n",
    "#    ax.set_title('Cluster %d'%c)\n",
    "#    cluster = dfc_products[dfc_products.Cluster == c]\n",
    "#    wordcloud = WordCloud(max_words=2500, margin=0).generate(' '.join(cluster['Description_nostop']))\n",
    "#    ax.imshow(wordcloud)\n",
    "#    ax.axis(\"off\")\n",
    "\n",
    "# export dfc\n",
    "#dfc.to_csv('ecommerce_dataset_us_clustered_6.csv', sep='\\t')"
   ]
  },
  {
   "cell_type": "markdown",
   "id": "06eb8de0",
   "metadata": {},
   "source": [
    "### here a picture of running the code above (very long runtime)"
   ]
  },
  {
   "cell_type": "markdown",
   "id": "61d5bb91",
   "metadata": {},
   "source": [
    "![Picture](wordcloud_6_cluster.png)"
   ]
  },
  {
   "cell_type": "markdown",
   "id": "5557523b",
   "metadata": {},
   "source": [
    "### allocation of the categories"
   ]
  },
  {
   "cell_type": "code",
   "execution_count": 70,
   "id": "14b34189",
   "metadata": {},
   "outputs": [
    {
     "data": {
      "text/html": [
       "<div>\n",
       "<style scoped>\n",
       "    .dataframe tbody tr th:only-of-type {\n",
       "        vertical-align: middle;\n",
       "    }\n",
       "\n",
       "    .dataframe tbody tr th {\n",
       "        vertical-align: top;\n",
       "    }\n",
       "\n",
       "    .dataframe thead th {\n",
       "        text-align: right;\n",
       "    }\n",
       "</style>\n",
       "<table border=\"1\" class=\"dataframe\">\n",
       "  <thead>\n",
       "    <tr style=\"text-align: right;\">\n",
       "      <th></th>\n",
       "      <th>Unnamed: 0</th>\n",
       "      <th>InvoiceNo</th>\n",
       "      <th>StockCode</th>\n",
       "      <th>Description</th>\n",
       "      <th>Quantity</th>\n",
       "      <th>InvoiceDate</th>\n",
       "      <th>UnitPrice</th>\n",
       "      <th>CustomerID</th>\n",
       "      <th>Revenue</th>\n",
       "      <th>Description_nostop</th>\n",
       "      <th>Description_tokenized</th>\n",
       "      <th>Description_lemmatized</th>\n",
       "      <th>Description_vectorizing</th>\n",
       "      <th>Cluster</th>\n",
       "    </tr>\n",
       "  </thead>\n",
       "  <tbody>\n",
       "    <tr>\n",
       "      <th>0</th>\n",
       "      <td>0</td>\n",
       "      <td>536365</td>\n",
       "      <td>85123A</td>\n",
       "      <td>white hanging heart t-light holder</td>\n",
       "      <td>6</td>\n",
       "      <td>2018-11-29 08:26:00</td>\n",
       "      <td>2.55</td>\n",
       "      <td>17850</td>\n",
       "      <td>15.3</td>\n",
       "      <td>white hanging heart t-light holder</td>\n",
       "      <td>['white', 'hanging', 'heart', 't-light', 'hold...</td>\n",
       "      <td>['white', 'hanging', 'heart', 't-light', 'hold...</td>\n",
       "      <td>white hanging heart t-light holder</td>\n",
       "      <td>2</td>\n",
       "    </tr>\n",
       "  </tbody>\n",
       "</table>\n",
       "</div>"
      ],
      "text/plain": [
       "   Unnamed: 0 InvoiceNo StockCode                         Description  \\\n",
       "0           0    536365    85123A  white hanging heart t-light holder   \n",
       "\n",
       "   Quantity          InvoiceDate  UnitPrice  CustomerID  Revenue  \\\n",
       "0         6  2018-11-29 08:26:00       2.55       17850     15.3   \n",
       "\n",
       "                   Description_nostop  \\\n",
       "0  white hanging heart t-light holder   \n",
       "\n",
       "                               Description_tokenized  \\\n",
       "0  ['white', 'hanging', 'heart', 't-light', 'hold...   \n",
       "\n",
       "                              Description_lemmatized  \\\n",
       "0  ['white', 'hanging', 'heart', 't-light', 'hold...   \n",
       "\n",
       "              Description_vectorizing  Cluster  \n",
       "0  white hanging heart t-light holder        2  "
      ]
     },
     "execution_count": 70,
     "metadata": {},
     "output_type": "execute_result"
    }
   ],
   "source": [
    "# import of processed df and cleaning (drop columns, name categories)\n",
    "df_categories = pd.read_csv('ecommerce_dataset_us_clustered_6.csv', sep='\\t')\n",
    "df_categories.head(1)"
   ]
  },
  {
   "cell_type": "code",
   "execution_count": 71,
   "id": "946d5374",
   "metadata": {},
   "outputs": [],
   "source": [
    "category_dict = {0: 'kitchen', 1: 'christmas', 2: 'decoration', 3: 'retrospot', 4: 'bag', 5: 'sign'}\n",
    "df_categories['Category'] = df_categories['Cluster']\n",
    "df_categories = df_categories.replace({'Category': category_dict})"
   ]
  },
  {
   "cell_type": "code",
   "execution_count": 72,
   "id": "bc8e3ec9",
   "metadata": {},
   "outputs": [
    {
     "data": {
      "text/html": [
       "<div>\n",
       "<style scoped>\n",
       "    .dataframe tbody tr th:only-of-type {\n",
       "        vertical-align: middle;\n",
       "    }\n",
       "\n",
       "    .dataframe tbody tr th {\n",
       "        vertical-align: top;\n",
       "    }\n",
       "\n",
       "    .dataframe thead th {\n",
       "        text-align: right;\n",
       "    }\n",
       "</style>\n",
       "<table border=\"1\" class=\"dataframe\">\n",
       "  <thead>\n",
       "    <tr style=\"text-align: right;\">\n",
       "      <th></th>\n",
       "      <th>Unnamed: 0</th>\n",
       "      <th>InvoiceNo</th>\n",
       "      <th>StockCode</th>\n",
       "      <th>Description</th>\n",
       "      <th>Quantity</th>\n",
       "      <th>InvoiceDate</th>\n",
       "      <th>UnitPrice</th>\n",
       "      <th>CustomerID</th>\n",
       "      <th>Revenue</th>\n",
       "      <th>Description_nostop</th>\n",
       "      <th>Description_tokenized</th>\n",
       "      <th>Description_lemmatized</th>\n",
       "      <th>Description_vectorizing</th>\n",
       "      <th>Cluster</th>\n",
       "      <th>Category</th>\n",
       "    </tr>\n",
       "  </thead>\n",
       "  <tbody>\n",
       "    <tr>\n",
       "      <th>0</th>\n",
       "      <td>0</td>\n",
       "      <td>536365</td>\n",
       "      <td>85123A</td>\n",
       "      <td>white hanging heart t-light holder</td>\n",
       "      <td>6</td>\n",
       "      <td>2018-11-29 08:26:00</td>\n",
       "      <td>2.55</td>\n",
       "      <td>17850</td>\n",
       "      <td>15.3</td>\n",
       "      <td>white hanging heart t-light holder</td>\n",
       "      <td>['white', 'hanging', 'heart', 't-light', 'hold...</td>\n",
       "      <td>['white', 'hanging', 'heart', 't-light', 'hold...</td>\n",
       "      <td>white hanging heart t-light holder</td>\n",
       "      <td>2</td>\n",
       "      <td>decoration</td>\n",
       "    </tr>\n",
       "  </tbody>\n",
       "</table>\n",
       "</div>"
      ],
      "text/plain": [
       "   Unnamed: 0 InvoiceNo StockCode                         Description  \\\n",
       "0           0    536365    85123A  white hanging heart t-light holder   \n",
       "\n",
       "   Quantity          InvoiceDate  UnitPrice  CustomerID  Revenue  \\\n",
       "0         6  2018-11-29 08:26:00       2.55       17850     15.3   \n",
       "\n",
       "                   Description_nostop  \\\n",
       "0  white hanging heart t-light holder   \n",
       "\n",
       "                               Description_tokenized  \\\n",
       "0  ['white', 'hanging', 'heart', 't-light', 'hold...   \n",
       "\n",
       "                              Description_lemmatized  \\\n",
       "0  ['white', 'hanging', 'heart', 't-light', 'hold...   \n",
       "\n",
       "              Description_vectorizing  Cluster    Category  \n",
       "0  white hanging heart t-light holder        2  decoration  "
      ]
     },
     "execution_count": 72,
     "metadata": {},
     "output_type": "execute_result"
    }
   ],
   "source": [
    "df_categories.head(1)"
   ]
  },
  {
   "cell_type": "code",
   "execution_count": 73,
   "id": "097d2ab7",
   "metadata": {},
   "outputs": [],
   "source": [
    "# clean df (without unnecessary columns from clustering)\n",
    "df_categories = df_categories[['InvoiceNo', 'StockCode', 'Description', 'Quantity', 'InvoiceDate', \\\n",
    "       'UnitPrice', 'CustomerID', 'Revenue', 'Cluster', 'Category']]\n",
    "# correct dtypes\n",
    "df_categories['CustomerID'] = df_categories['CustomerID'].astype('object')\n",
    "df_categories['InvoiceDate'] = pd.to_datetime(df_categories['InvoiceDate'])"
   ]
  },
  {
   "cell_type": "code",
   "execution_count": 74,
   "id": "6478b0b4",
   "metadata": {},
   "outputs": [],
   "source": [
    "# export df_categories\n",
    "#df_categories.to_csv('ecommerce_dataset_us_clustered_6_clean.csv', sep='\\t')"
   ]
  },
  {
   "cell_type": "markdown",
   "id": "ce394bd4",
   "metadata": {},
   "source": [
    "# Customer Segmentation\n",
    "\n",
    "- form an RFM group"
   ]
  },
  {
   "cell_type": "code",
   "execution_count": 75,
   "id": "1fc4743c",
   "metadata": {},
   "outputs": [],
   "source": [
    "import squarify\n",
    "from datetime import timedelta"
   ]
  },
  {
   "cell_type": "code",
   "execution_count": 76,
   "id": "f574b7f9",
   "metadata": {},
   "outputs": [],
   "source": [
    "df = pd.read_csv('ecommerce_dataset_us_clustered_6_clean.csv', sep='\\t')\n",
    "# correct dtypes\n",
    "df['CustomerID'] = df['CustomerID'].astype('object')\n",
    "df['InvoiceDate'] = pd.to_datetime(df['InvoiceDate'])"
   ]
  },
  {
   "cell_type": "code",
   "execution_count": 77,
   "id": "ba8a7c0d",
   "metadata": {},
   "outputs": [],
   "source": [
    "# drop CustomerID == 0 (all data without any CustomerID)\n",
    "df = df[df['CustomerID'] != 0]"
   ]
  },
  {
   "cell_type": "code",
   "execution_count": 78,
   "id": "acdfe9ca",
   "metadata": {},
   "outputs": [
    {
     "data": {
      "text/html": [
       "<div>\n",
       "<style scoped>\n",
       "    .dataframe tbody tr th:only-of-type {\n",
       "        vertical-align: middle;\n",
       "    }\n",
       "\n",
       "    .dataframe tbody tr th {\n",
       "        vertical-align: top;\n",
       "    }\n",
       "\n",
       "    .dataframe thead th {\n",
       "        text-align: right;\n",
       "    }\n",
       "</style>\n",
       "<table border=\"1\" class=\"dataframe\">\n",
       "  <thead>\n",
       "    <tr style=\"text-align: right;\">\n",
       "      <th></th>\n",
       "      <th>Unnamed: 0</th>\n",
       "      <th>InvoiceNo</th>\n",
       "      <th>StockCode</th>\n",
       "      <th>Description</th>\n",
       "      <th>Quantity</th>\n",
       "      <th>InvoiceDate</th>\n",
       "      <th>UnitPrice</th>\n",
       "      <th>CustomerID</th>\n",
       "      <th>Revenue</th>\n",
       "      <th>Cluster</th>\n",
       "      <th>Category</th>\n",
       "    </tr>\n",
       "  </thead>\n",
       "  <tbody>\n",
       "    <tr>\n",
       "      <th>0</th>\n",
       "      <td>0</td>\n",
       "      <td>536365</td>\n",
       "      <td>85123A</td>\n",
       "      <td>white hanging heart t-light holder</td>\n",
       "      <td>6</td>\n",
       "      <td>2018-11-29 08:26:00</td>\n",
       "      <td>2.55</td>\n",
       "      <td>17850</td>\n",
       "      <td>15.30</td>\n",
       "      <td>2</td>\n",
       "      <td>decoration</td>\n",
       "    </tr>\n",
       "    <tr>\n",
       "      <th>1</th>\n",
       "      <td>1</td>\n",
       "      <td>536365</td>\n",
       "      <td>71053</td>\n",
       "      <td>white metal lantern</td>\n",
       "      <td>6</td>\n",
       "      <td>2018-11-29 08:26:00</td>\n",
       "      <td>3.39</td>\n",
       "      <td>17850</td>\n",
       "      <td>20.34</td>\n",
       "      <td>5</td>\n",
       "      <td>sign</td>\n",
       "    </tr>\n",
       "    <tr>\n",
       "      <th>2</th>\n",
       "      <td>2</td>\n",
       "      <td>536365</td>\n",
       "      <td>84406B</td>\n",
       "      <td>cream cupid hearts coat hanger</td>\n",
       "      <td>8</td>\n",
       "      <td>2018-11-29 08:26:00</td>\n",
       "      <td>2.75</td>\n",
       "      <td>17850</td>\n",
       "      <td>22.00</td>\n",
       "      <td>2</td>\n",
       "      <td>decoration</td>\n",
       "    </tr>\n",
       "  </tbody>\n",
       "</table>\n",
       "</div>"
      ],
      "text/plain": [
       "   Unnamed: 0 InvoiceNo StockCode                         Description  \\\n",
       "0           0    536365    85123A  white hanging heart t-light holder   \n",
       "1           1    536365     71053                 white metal lantern   \n",
       "2           2    536365    84406B      cream cupid hearts coat hanger   \n",
       "\n",
       "   Quantity         InvoiceDate  UnitPrice CustomerID  Revenue  Cluster  \\\n",
       "0         6 2018-11-29 08:26:00       2.55      17850    15.30        2   \n",
       "1         6 2018-11-29 08:26:00       3.39      17850    20.34        5   \n",
       "2         8 2018-11-29 08:26:00       2.75      17850    22.00        2   \n",
       "\n",
       "     Category  \n",
       "0  decoration  \n",
       "1        sign  \n",
       "2  decoration  "
      ]
     },
     "execution_count": 78,
     "metadata": {},
     "output_type": "execute_result"
    }
   ],
   "source": [
    "df.head(3)"
   ]
  },
  {
   "cell_type": "code",
   "execution_count": 79,
   "id": "2fbbc83b",
   "metadata": {},
   "outputs": [
    {
     "data": {
      "text/plain": [
       "Timestamp('2019-12-07 12:50:00')"
      ]
     },
     "execution_count": 79,
     "metadata": {},
     "output_type": "execute_result"
    }
   ],
   "source": [
    "df['InvoiceDate'].max()"
   ]
  },
  {
   "cell_type": "markdown",
   "id": "f0bed63d",
   "metadata": {},
   "source": [
    "### group by CustomerID, count Invoices for Frequency, count total Revenue for Monetary, create snapshot Date for calculating Recency"
   ]
  },
  {
   "cell_type": "code",
   "execution_count": 80,
   "id": "0b9e2cd6",
   "metadata": {},
   "outputs": [],
   "source": [
    "# snapshot Date\n",
    "snapshot_date = df['InvoiceDate'].max() + timedelta(days=1)"
   ]
  },
  {
   "cell_type": "code",
   "execution_count": 81,
   "id": "ae37fd87",
   "metadata": {},
   "outputs": [],
   "source": [
    "# snapshot date = 1 day after last day in data set\n",
    "snapshot_date = df['InvoiceDate'].max() + timedelta(days=1)\n",
    "\n",
    "# grouping by CustomerID\n",
    "data_process = df.groupby(['CustomerID']).agg({'InvoiceDate': lambda x: (snapshot_date - x.max()).days,\\\n",
    "                                              'InvoiceNo': 'count',\\\n",
    "                                              'Revenue': 'sum'})\n",
    "\n",
    "# rename columns\n",
    "data_process.rename(columns={'InvoiceDate': 'Recency',\\\n",
    "                            'InvoiceNo': 'Frequency',\\\n",
    "                            'Revenue': 'MonetaryValue'}, inplace=True)"
   ]
  },
  {
   "cell_type": "code",
   "execution_count": 82,
   "id": "43ff5fef",
   "metadata": {},
   "outputs": [
    {
     "data": {
      "text/html": [
       "<div>\n",
       "<style scoped>\n",
       "    .dataframe tbody tr th:only-of-type {\n",
       "        vertical-align: middle;\n",
       "    }\n",
       "\n",
       "    .dataframe tbody tr th {\n",
       "        vertical-align: top;\n",
       "    }\n",
       "\n",
       "    .dataframe thead th {\n",
       "        text-align: right;\n",
       "    }\n",
       "</style>\n",
       "<table border=\"1\" class=\"dataframe\">\n",
       "  <thead>\n",
       "    <tr style=\"text-align: right;\">\n",
       "      <th></th>\n",
       "      <th>Recency</th>\n",
       "      <th>Frequency</th>\n",
       "      <th>MonetaryValue</th>\n",
       "    </tr>\n",
       "    <tr>\n",
       "      <th>CustomerID</th>\n",
       "      <th></th>\n",
       "      <th></th>\n",
       "      <th></th>\n",
       "    </tr>\n",
       "  </thead>\n",
       "  <tbody>\n",
       "    <tr>\n",
       "      <th>12346</th>\n",
       "      <td>326</td>\n",
       "      <td>2</td>\n",
       "      <td>0.00</td>\n",
       "    </tr>\n",
       "    <tr>\n",
       "      <th>12347</th>\n",
       "      <td>2</td>\n",
       "      <td>182</td>\n",
       "      <td>4310.00</td>\n",
       "    </tr>\n",
       "    <tr>\n",
       "      <th>12348</th>\n",
       "      <td>75</td>\n",
       "      <td>27</td>\n",
       "      <td>1437.24</td>\n",
       "    </tr>\n",
       "    <tr>\n",
       "      <th>12349</th>\n",
       "      <td>19</td>\n",
       "      <td>72</td>\n",
       "      <td>1457.55</td>\n",
       "    </tr>\n",
       "    <tr>\n",
       "      <th>12350</th>\n",
       "      <td>310</td>\n",
       "      <td>16</td>\n",
       "      <td>294.40</td>\n",
       "    </tr>\n",
       "  </tbody>\n",
       "</table>\n",
       "</div>"
      ],
      "text/plain": [
       "            Recency  Frequency  MonetaryValue\n",
       "CustomerID                                   \n",
       "12346           326          2           0.00\n",
       "12347             2        182        4310.00\n",
       "12348            75         27        1437.24\n",
       "12349            19         72        1457.55\n",
       "12350           310         16         294.40"
      ]
     },
     "execution_count": 82,
     "metadata": {},
     "output_type": "execute_result"
    }
   ],
   "source": [
    "data_process.head()"
   ]
  },
  {
   "cell_type": "code",
   "execution_count": 83,
   "id": "f5be01fb",
   "metadata": {},
   "outputs": [
    {
     "name": "stdout",
     "output_type": "stream",
     "text": [
      "<class 'pandas.core.frame.DataFrame'>\n",
      "Int64Index: 4372 entries, 12346 to 18287\n",
      "Data columns (total 3 columns):\n",
      " #   Column         Non-Null Count  Dtype  \n",
      "---  ------         --------------  -----  \n",
      " 0   Recency        4372 non-null   int64  \n",
      " 1   Frequency      4372 non-null   int64  \n",
      " 2   MonetaryValue  4372 non-null   float64\n",
      "dtypes: float64(1), int64(2)\n",
      "memory usage: 136.6 KB\n"
     ]
    }
   ],
   "source": [
    "data_process.info()"
   ]
  },
  {
   "cell_type": "code",
   "execution_count": 84,
   "id": "ec1afe38",
   "metadata": {},
   "outputs": [
    {
     "data": {
      "text/html": [
       "<div>\n",
       "<style scoped>\n",
       "    .dataframe tbody tr th:only-of-type {\n",
       "        vertical-align: middle;\n",
       "    }\n",
       "\n",
       "    .dataframe tbody tr th {\n",
       "        vertical-align: top;\n",
       "    }\n",
       "\n",
       "    .dataframe thead th {\n",
       "        text-align: right;\n",
       "    }\n",
       "</style>\n",
       "<table border=\"1\" class=\"dataframe\">\n",
       "  <thead>\n",
       "    <tr style=\"text-align: right;\">\n",
       "      <th></th>\n",
       "      <th>Recency</th>\n",
       "      <th>Frequency</th>\n",
       "      <th>MonetaryValue</th>\n",
       "    </tr>\n",
       "  </thead>\n",
       "  <tbody>\n",
       "    <tr>\n",
       "      <th>count</th>\n",
       "      <td>4372.000000</td>\n",
       "      <td>4372.000000</td>\n",
       "      <td>4372.000000</td>\n",
       "    </tr>\n",
       "    <tr>\n",
       "      <th>mean</th>\n",
       "      <td>92.150046</td>\n",
       "      <td>92.767383</td>\n",
       "      <td>1882.254721</td>\n",
       "    </tr>\n",
       "    <tr>\n",
       "      <th>std</th>\n",
       "      <td>100.825410</td>\n",
       "      <td>232.172507</td>\n",
       "      <td>8204.943841</td>\n",
       "    </tr>\n",
       "    <tr>\n",
       "      <th>min</th>\n",
       "      <td>1.000000</td>\n",
       "      <td>1.000000</td>\n",
       "      <td>-4287.630000</td>\n",
       "    </tr>\n",
       "    <tr>\n",
       "      <th>25%</th>\n",
       "      <td>17.000000</td>\n",
       "      <td>17.000000</td>\n",
       "      <td>292.240000</td>\n",
       "    </tr>\n",
       "    <tr>\n",
       "      <th>50%</th>\n",
       "      <td>50.000000</td>\n",
       "      <td>41.500000</td>\n",
       "      <td>642.805000</td>\n",
       "    </tr>\n",
       "    <tr>\n",
       "      <th>75%</th>\n",
       "      <td>143.000000</td>\n",
       "      <td>101.000000</td>\n",
       "      <td>1592.090000</td>\n",
       "    </tr>\n",
       "    <tr>\n",
       "      <th>max</th>\n",
       "      <td>374.000000</td>\n",
       "      <td>7983.000000</td>\n",
       "      <td>278466.020000</td>\n",
       "    </tr>\n",
       "  </tbody>\n",
       "</table>\n",
       "</div>"
      ],
      "text/plain": [
       "           Recency    Frequency  MonetaryValue\n",
       "count  4372.000000  4372.000000    4372.000000\n",
       "mean     92.150046    92.767383    1882.254721\n",
       "std     100.825410   232.172507    8204.943841\n",
       "min       1.000000     1.000000   -4287.630000\n",
       "25%      17.000000    17.000000     292.240000\n",
       "50%      50.000000    41.500000     642.805000\n",
       "75%     143.000000   101.000000    1592.090000\n",
       "max     374.000000  7983.000000  278466.020000"
      ]
     },
     "execution_count": 84,
     "metadata": {},
     "output_type": "execute_result"
    }
   ],
   "source": [
    "data_process.describe()"
   ]
  },
  {
   "cell_type": "markdown",
   "id": "5989d965",
   "metadata": {},
   "source": [
    "#### Plot of RFM distributions"
   ]
  },
  {
   "cell_type": "code",
   "execution_count": 85,
   "id": "ca9f69f3",
   "metadata": {},
   "outputs": [
    {
     "data": {
      "image/png": "[encoded data removed]",
      "text/plain": [
       "<Figure size 864x720 with 3 Axes>"
      ]
     },
     "metadata": {
      "needs_background": "light"
     },
     "output_type": "display_data"
    }
   ],
   "source": [
    "plt.figure(figsize=(12, 10))\n",
    "\n",
    "# Recency distribution\n",
    "plt.subplot(3, 1, 1)\n",
    "sns.histplot(data_process['Recency'], kde=True, stat='density', linewidth=0)\n",
    "\n",
    "# Frequency distribution\n",
    "plt.subplot(3, 1, 2)\n",
    "sns.histplot(data_process['Frequency'], kde=True)\n",
    "\n",
    "\n",
    "# Monetary distribution\n",
    "plt.subplot(3, 1, 3)\n",
    "sns.histplot(data_process['MonetaryValue'], kde=True)\n",
    "\n",
    "plt.show()"
   ]
  },
  {
   "cell_type": "code",
   "execution_count": 86,
   "id": "d06f9b97",
   "metadata": {},
   "outputs": [
    {
     "data": {
      "text/html": [
       "<div>\n",
       "<style scoped>\n",
       "    .dataframe tbody tr th:only-of-type {\n",
       "        vertical-align: middle;\n",
       "    }\n",
       "\n",
       "    .dataframe tbody tr th {\n",
       "        vertical-align: top;\n",
       "    }\n",
       "\n",
       "    .dataframe thead th {\n",
       "        text-align: right;\n",
       "    }\n",
       "</style>\n",
       "<table border=\"1\" class=\"dataframe\">\n",
       "  <thead>\n",
       "    <tr style=\"text-align: right;\">\n",
       "      <th></th>\n",
       "      <th>Recency</th>\n",
       "      <th>Frequency</th>\n",
       "      <th>MonetaryValue</th>\n",
       "    </tr>\n",
       "    <tr>\n",
       "      <th>CustomerID</th>\n",
       "      <th></th>\n",
       "      <th></th>\n",
       "      <th></th>\n",
       "    </tr>\n",
       "  </thead>\n",
       "  <tbody>\n",
       "    <tr>\n",
       "      <th>14646</th>\n",
       "      <td>2</td>\n",
       "      <td>2068</td>\n",
       "      <td>278466.02</td>\n",
       "    </tr>\n",
       "  </tbody>\n",
       "</table>\n",
       "</div>"
      ],
      "text/plain": [
       "            Recency  Frequency  MonetaryValue\n",
       "CustomerID                                   \n",
       "14646             2       2068      278466.02"
      ]
     },
     "execution_count": 86,
     "metadata": {},
     "output_type": "execute_result"
    }
   ],
   "source": [
    "data_process[data_process['MonetaryValue'] == data_process['MonetaryValue'].max()]"
   ]
  },
  {
   "cell_type": "markdown",
   "id": "0deb1fc8",
   "metadata": {},
   "source": [
    "### Create new R, F, M Columns - Calculate theire quantiles"
   ]
  },
  {
   "cell_type": "code",
   "execution_count": 87,
   "id": "c93a3971",
   "metadata": {},
   "outputs": [],
   "source": [
    "# create Labels for Recency and Frequency\n",
    "r_labels = range(4, 0, -1)\n",
    "f_labels = range(1, 5)\n",
    "m_labels = range(1, 5)\n",
    "\n",
    "# assign labels to 4 equal percentile groups for Recency and Frequency\n",
    "r_groups = pd.qcut(data_process['Recency'], q=4, labels=r_labels)\n",
    "f_groups = pd.qcut(data_process['Frequency'], q=4, labels=f_labels)\n",
    "m_groups = pd.qcut(data_process['MonetaryValue'], q=4, labels=m_labels)\n",
    "\n",
    "# create new Columns\n",
    "data_process = data_process.assign(R = r_groups.values, F = f_groups.values, M = m_groups.values)"
   ]
  },
  {
   "cell_type": "markdown",
   "id": "105c781f",
   "metadata": {},
   "source": [
    "### Calculate RFM_Score"
   ]
  },
  {
   "cell_type": "code",
   "execution_count": 88,
   "id": "69817352",
   "metadata": {},
   "outputs": [],
   "source": [
    "# sum R, F, M values\n",
    "data_process['RFM_Score'] = data_process[['R', 'F', 'M']].sum(axis=1)"
   ]
  },
  {
   "cell_type": "code",
   "execution_count": 89,
   "id": "3c6139b1",
   "metadata": {},
   "outputs": [
    {
     "data": {
      "text/html": [
       "<div>\n",
       "<style scoped>\n",
       "    .dataframe tbody tr th:only-of-type {\n",
       "        vertical-align: middle;\n",
       "    }\n",
       "\n",
       "    .dataframe tbody tr th {\n",
       "        vertical-align: top;\n",
       "    }\n",
       "\n",
       "    .dataframe thead th {\n",
       "        text-align: right;\n",
       "    }\n",
       "</style>\n",
       "<table border=\"1\" class=\"dataframe\">\n",
       "  <thead>\n",
       "    <tr style=\"text-align: right;\">\n",
       "      <th></th>\n",
       "      <th>Recency</th>\n",
       "      <th>Frequency</th>\n",
       "      <th>MonetaryValue</th>\n",
       "      <th>R</th>\n",
       "      <th>F</th>\n",
       "      <th>M</th>\n",
       "      <th>RFM_Score</th>\n",
       "    </tr>\n",
       "    <tr>\n",
       "      <th>CustomerID</th>\n",
       "      <th></th>\n",
       "      <th></th>\n",
       "      <th></th>\n",
       "      <th></th>\n",
       "      <th></th>\n",
       "      <th></th>\n",
       "      <th></th>\n",
       "    </tr>\n",
       "  </thead>\n",
       "  <tbody>\n",
       "    <tr>\n",
       "      <th>15574</th>\n",
       "      <td>178</td>\n",
       "      <td>168</td>\n",
       "      <td>702.25</td>\n",
       "      <td>1</td>\n",
       "      <td>4</td>\n",
       "      <td>3</td>\n",
       "      <td>8</td>\n",
       "    </tr>\n",
       "    <tr>\n",
       "      <th>13113</th>\n",
       "      <td>1</td>\n",
       "      <td>280</td>\n",
       "      <td>10510.00</td>\n",
       "      <td>4</td>\n",
       "      <td>4</td>\n",
       "      <td>4</td>\n",
       "      <td>12</td>\n",
       "    </tr>\n",
       "    <tr>\n",
       "      <th>17600</th>\n",
       "      <td>18</td>\n",
       "      <td>13</td>\n",
       "      <td>161.67</td>\n",
       "      <td>3</td>\n",
       "      <td>1</td>\n",
       "      <td>1</td>\n",
       "      <td>5</td>\n",
       "    </tr>\n",
       "    <tr>\n",
       "      <th>17886</th>\n",
       "      <td>32</td>\n",
       "      <td>109</td>\n",
       "      <td>899.61</td>\n",
       "      <td>3</td>\n",
       "      <td>4</td>\n",
       "      <td>3</td>\n",
       "      <td>10</td>\n",
       "    </tr>\n",
       "    <tr>\n",
       "      <th>13008</th>\n",
       "      <td>323</td>\n",
       "      <td>15</td>\n",
       "      <td>178.47</td>\n",
       "      <td>1</td>\n",
       "      <td>1</td>\n",
       "      <td>1</td>\n",
       "      <td>3</td>\n",
       "    </tr>\n",
       "  </tbody>\n",
       "</table>\n",
       "</div>"
      ],
      "text/plain": [
       "            Recency  Frequency  MonetaryValue  R  F  M  RFM_Score\n",
       "CustomerID                                                       \n",
       "15574           178        168         702.25  1  4  3          8\n",
       "13113             1        280       10510.00  4  4  4         12\n",
       "17600            18         13         161.67  3  1  1          5\n",
       "17886            32        109         899.61  3  4  3         10\n",
       "13008           323         15         178.47  1  1  1          3"
      ]
     },
     "execution_count": 89,
     "metadata": {},
     "output_type": "execute_result"
    }
   ],
   "source": [
    "data_process.sample(5)"
   ]
  },
  {
   "cell_type": "code",
   "execution_count": 90,
   "id": "3b177d5f",
   "metadata": {},
   "outputs": [
    {
     "data": {
      "text/plain": [
       "array([ 3, 12,  7,  9,  4, 10, 11,  8,  6,  5], dtype=int64)"
      ]
     },
     "execution_count": 90,
     "metadata": {},
     "output_type": "execute_result"
    }
   ],
   "source": [
    "data_process['RFM_Score'].unique()"
   ]
  },
  {
   "cell_type": "markdown",
   "id": "ef8bbb21",
   "metadata": {},
   "source": [
    "### Define Customer Levels"
   ]
  },
  {
   "cell_type": "code",
   "execution_count": 91,
   "id": "2105ebda",
   "metadata": {},
   "outputs": [],
   "source": [
    "# group rfm_score into levels\n",
    "def rfm_level(df):\n",
    "    if df['RFM_Score'] >= 9:\n",
    "        return 'Premium'\n",
    "    elif df['RFM_Score'] >= 5:\n",
    "        return 'Common'\n",
    "    else:\n",
    "        return 'Rarely'\n",
    "\n",
    "    # create new RFM_Levelcolumn    \n",
    "data_process['RFM_Level'] = data_process.apply(rfm_level, axis=1)"
   ]
  },
  {
   "cell_type": "code",
   "execution_count": 92,
   "id": "d5052651",
   "metadata": {},
   "outputs": [
    {
     "data": {
      "text/html": [
       "<div>\n",
       "<style scoped>\n",
       "    .dataframe tbody tr th:only-of-type {\n",
       "        vertical-align: middle;\n",
       "    }\n",
       "\n",
       "    .dataframe tbody tr th {\n",
       "        vertical-align: top;\n",
       "    }\n",
       "\n",
       "    .dataframe thead th {\n",
       "        text-align: right;\n",
       "    }\n",
       "</style>\n",
       "<table border=\"1\" class=\"dataframe\">\n",
       "  <thead>\n",
       "    <tr style=\"text-align: right;\">\n",
       "      <th></th>\n",
       "      <th>Recency</th>\n",
       "      <th>Frequency</th>\n",
       "      <th>MonetaryValue</th>\n",
       "      <th>R</th>\n",
       "      <th>F</th>\n",
       "      <th>M</th>\n",
       "      <th>RFM_Score</th>\n",
       "      <th>RFM_Level</th>\n",
       "    </tr>\n",
       "    <tr>\n",
       "      <th>CustomerID</th>\n",
       "      <th></th>\n",
       "      <th></th>\n",
       "      <th></th>\n",
       "      <th></th>\n",
       "      <th></th>\n",
       "      <th></th>\n",
       "      <th></th>\n",
       "      <th></th>\n",
       "    </tr>\n",
       "  </thead>\n",
       "  <tbody>\n",
       "    <tr>\n",
       "      <th>12346</th>\n",
       "      <td>326</td>\n",
       "      <td>2</td>\n",
       "      <td>0.00</td>\n",
       "      <td>1</td>\n",
       "      <td>1</td>\n",
       "      <td>1</td>\n",
       "      <td>3</td>\n",
       "      <td>Rarely</td>\n",
       "    </tr>\n",
       "    <tr>\n",
       "      <th>12347</th>\n",
       "      <td>2</td>\n",
       "      <td>182</td>\n",
       "      <td>4310.00</td>\n",
       "      <td>4</td>\n",
       "      <td>4</td>\n",
       "      <td>4</td>\n",
       "      <td>12</td>\n",
       "      <td>Premium</td>\n",
       "    </tr>\n",
       "    <tr>\n",
       "      <th>12348</th>\n",
       "      <td>75</td>\n",
       "      <td>27</td>\n",
       "      <td>1437.24</td>\n",
       "      <td>2</td>\n",
       "      <td>2</td>\n",
       "      <td>3</td>\n",
       "      <td>7</td>\n",
       "      <td>Common</td>\n",
       "    </tr>\n",
       "    <tr>\n",
       "      <th>12349</th>\n",
       "      <td>19</td>\n",
       "      <td>72</td>\n",
       "      <td>1457.55</td>\n",
       "      <td>3</td>\n",
       "      <td>3</td>\n",
       "      <td>3</td>\n",
       "      <td>9</td>\n",
       "      <td>Premium</td>\n",
       "    </tr>\n",
       "    <tr>\n",
       "      <th>12350</th>\n",
       "      <td>310</td>\n",
       "      <td>16</td>\n",
       "      <td>294.40</td>\n",
       "      <td>1</td>\n",
       "      <td>1</td>\n",
       "      <td>2</td>\n",
       "      <td>4</td>\n",
       "      <td>Rarely</td>\n",
       "    </tr>\n",
       "  </tbody>\n",
       "</table>\n",
       "</div>"
      ],
      "text/plain": [
       "            Recency  Frequency  MonetaryValue  R  F  M  RFM_Score RFM_Level\n",
       "CustomerID                                                                 \n",
       "12346           326          2           0.00  1  1  1          3    Rarely\n",
       "12347             2        182        4310.00  4  4  4         12   Premium\n",
       "12348            75         27        1437.24  2  2  3          7    Common\n",
       "12349            19         72        1457.55  3  3  3          9   Premium\n",
       "12350           310         16         294.40  1  1  2          4    Rarely"
      ]
     },
     "execution_count": 92,
     "metadata": {},
     "output_type": "execute_result"
    }
   ],
   "source": [
    "data_process.head()"
   ]
  },
  {
   "cell_type": "code",
   "execution_count": 93,
   "id": "4eb303df",
   "metadata": {},
   "outputs": [],
   "source": [
    "df_rfm = data_process[['Recency', 'Frequency', 'MonetaryValue', 'RFM_Score', 'RFM_Level']]"
   ]
  },
  {
   "cell_type": "code",
   "execution_count": 94,
   "id": "c74bf18f",
   "metadata": {},
   "outputs": [],
   "source": [
    "# export df_rfm\n",
    "#df_rfm.to_csv('ecommerce_dataset_us_Customer_RFM.csv', sep='\\t')"
   ]
  },
  {
   "cell_type": "code",
   "execution_count": null,
   "id": "b3ef7a8f",
   "metadata": {},
   "outputs": [],
   "source": []
  }
 ],
 "metadata": {
  "kernelspec": {
   "display_name": "Python 3 (ipykernel)",
   "language": "python",
   "name": "python3"
  },
  "language_info": {
   "codemirror_mode": {
    "name": "ipython",
    "version": 3
   },
   "file_extension": ".py",
   "mimetype": "text/x-python",
   "name": "python",
   "nbconvert_exporter": "python",
   "pygments_lexer": "ipython3",
   "version": "3.9.7"
  }
 },
 "nbformat": 4,
 "nbformat_minor": 5
}
